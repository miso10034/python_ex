{
 "cells": [
  {
   "cell_type": "code",
   "execution_count": 8,
   "id": "d269ada9-0e8d-424f-90aa-61ab133d0374",
   "metadata": {},
   "outputs": [
    {
     "name": "stdin",
     "output_type": "stream",
     "text": [
      "Tell me your age? \n",
      " 15\n"
     ]
    },
    {
     "name": "stdout",
     "output_type": "stream",
     "text": [
      "welcome to the club.\n"
     ]
    }
   ],
   "source": [
    "# print(\"Tell me your age?\")\n",
    "myage  = int(input(\"Tell me your age? \\n\"))\n",
    "if myage < 30 :\n",
    "    print(\"welcome to the club.\")\n",
    "else :\n",
    "    print(\"oh! no. you are not accepted/\")"
   ]
  },
  {
   "cell_type": "code",
   "execution_count": 4,
   "id": "bf3e368f-967a-4d8b-bd88-5e5a5d12c6d5",
   "metadata": {},
   "outputs": [
    {
     "data": {
      "text/plain": [
       "int"
      ]
     },
     "execution_count": 4,
     "metadata": {},
     "output_type": "execute_result"
    }
   ],
   "source": [
    "type(myage)"
   ]
  },
  {
   "cell_type": "code",
   "execution_count": 9,
   "id": "f2b1a4c3-919b-42fe-b6db-5d239c41843f",
   "metadata": {},
   "outputs": [
    {
     "name": "stdin",
     "output_type": "stream",
     "text": [
      "Tell me your age? \n",
      " 56\n"
     ]
    },
    {
     "name": "stdout",
     "output_type": "stream",
     "text": [
      "oh! no. you are not accepted/\n"
     ]
    }
   ],
   "source": [
    "myage  = int(input(\"Tell me your age? \\n\"))\n",
    "if myage < 30 :\n",
    "    print(\"welcome to the club.\")\n",
    "else :\n",
    "    print(\"oh! no. you are not accepted/\")"
   ]
  },
  {
   "cell_type": "code",
   "execution_count": 10,
   "id": "f1129d1c-d69d-489b-b332-290b94f42f41",
   "metadata": {},
   "outputs": [],
   "source": [
    "# 주민번호를 입력받아서 생년월일(6자리)를 출력하고, 성별을 판별하여 출력하세요\n",
    "# str은 인덱싱과 슬라이싱이 가능합니다."
   ]
  },
  {
   "cell_type": "code",
   "execution_count": 21,
   "id": "5df783a2-cb80-45b0-b948-cd2ffe683962",
   "metadata": {},
   "outputs": [
    {
     "name": "stdin",
     "output_type": "stream",
     "text": [
      "주민등록번호 입력(ex :230101-4123456)>>>  980729-2484015\n"
     ]
    },
    {
     "name": "stdout",
     "output_type": "stream",
     "text": [
      "생년월일 :  980729  성별 :  여자\n"
     ]
    }
   ],
   "source": [
    "data = input('주민등록번호 입력(ex :230101-4123456)>>> ')\n",
    "if data[7] in ('1','3') :\n",
    "    data1 = '남자'\n",
    "elif data[7] in ('2','4') :\n",
    "    data1 = '여자'\n",
    "else :\n",
    "    data1 = '입력값오류'\n",
    "print('생년월일 : ',data[:6],' 성별 : ',data1)\n"
   ]
  },
  {
   "cell_type": "code",
   "execution_count": 26,
   "id": "346d557f-4874-4cea-9a37-541062cfb5bb",
   "metadata": {},
   "outputs": [
    {
     "name": "stdout",
     "output_type": "stream",
     "text": [
      "a\n",
      "2\n",
      "vvv\n",
      "3\n",
      "4\n",
      "5\n"
     ]
    }
   ],
   "source": [
    "data = ['a',2,'vvv',3,4,5]\n",
    "for i in data:\n",
    "    print(i)"
   ]
  },
  {
   "cell_type": "code",
   "execution_count": 29,
   "id": "3be9cfad-91d4-4195-b30f-052a6453a908",
   "metadata": {
    "tags": []
   },
   "outputs": [
    {
     "name": "stdout",
     "output_type": "stream",
     "text": [
      "1\n",
      "2\n",
      "3\n",
      "4\n",
      "5\n",
      "6\n",
      "7\n",
      "8\n",
      "9\n",
      "10\n"
     ]
    }
   ],
   "source": [
    "for i in range(1,11,1):\n",
    "    print(i)"
   ]
  },
  {
   "cell_type": "code",
   "execution_count": 30,
   "id": "524ee912-fb40-4a94-84bb-57b4ea70f448",
   "metadata": {},
   "outputs": [
    {
     "name": "stdout",
     "output_type": "stream",
     "text": [
      "0 a\n",
      "1 2\n",
      "2 vvv\n",
      "3 3\n",
      "4 4\n",
      "5 5\n"
     ]
    }
   ],
   "source": [
    "for i,item in enumerate(data):\n",
    "    print(i,item)"
   ]
  },
  {
   "cell_type": "code",
   "execution_count": 31,
   "id": "f715a2b8-76fd-4a89-acfb-ec7095258e7c",
   "metadata": {
    "jupyter": {
     "source_hidden": true
    },
    "tags": []
   },
   "outputs": [],
   "source": [
    "# 구구단 출력 2단부터 차례대로 출력하세요"
   ]
  },
  {
   "cell_type": "code",
   "execution_count": 35,
   "id": "a60fdf52-c9ac-40a1-a23b-befdfac62264",
   "metadata": {
    "collapsed": true,
    "jupyter": {
     "outputs_hidden": true,
     "source_hidden": true
    },
    "tags": []
   },
   "outputs": [
    {
     "name": "stdout",
     "output_type": "stream",
     "text": [
      "[' + str(i) + 단']\n",
      "2 X 1 = 2\n",
      "2 X 2 = 4\n",
      "2 X 3 = 6\n",
      "2 X 4 = 8\n",
      "2 X 5 = 10\n",
      "2 X 6 = 12\n",
      "2 X 7 = 14\n",
      "2 X 8 = 16\n",
      "2 X 9 = 18\n",
      "[' + str(i) + 단']\n",
      "3 X 1 = 3\n",
      "3 X 2 = 6\n",
      "3 X 3 = 9\n",
      "3 X 4 = 12\n",
      "3 X 5 = 15\n",
      "3 X 6 = 18\n",
      "3 X 7 = 21\n",
      "3 X 8 = 24\n",
      "3 X 9 = 27\n",
      "[' + str(i) + 단']\n",
      "4 X 1 = 4\n",
      "4 X 2 = 8\n",
      "4 X 3 = 12\n",
      "4 X 4 = 16\n",
      "4 X 5 = 20\n",
      "4 X 6 = 24\n",
      "4 X 7 = 28\n",
      "4 X 8 = 32\n",
      "4 X 9 = 36\n",
      "[' + str(i) + 단']\n",
      "5 X 1 = 5\n",
      "5 X 2 = 10\n",
      "5 X 3 = 15\n",
      "5 X 4 = 20\n",
      "5 X 5 = 25\n",
      "5 X 6 = 30\n",
      "5 X 7 = 35\n",
      "5 X 8 = 40\n",
      "5 X 9 = 45\n",
      "[' + str(i) + 단']\n",
      "6 X 1 = 6\n",
      "6 X 2 = 12\n",
      "6 X 3 = 18\n",
      "6 X 4 = 24\n",
      "6 X 5 = 30\n",
      "6 X 6 = 36\n",
      "6 X 7 = 42\n",
      "6 X 8 = 48\n",
      "6 X 9 = 54\n",
      "[' + str(i) + 단']\n",
      "7 X 1 = 7\n",
      "7 X 2 = 14\n",
      "7 X 3 = 21\n",
      "7 X 4 = 28\n",
      "7 X 5 = 35\n",
      "7 X 6 = 42\n",
      "7 X 7 = 49\n",
      "7 X 8 = 56\n",
      "7 X 9 = 63\n",
      "[' + str(i) + 단']\n",
      "8 X 1 = 8\n",
      "8 X 2 = 16\n",
      "8 X 3 = 24\n",
      "8 X 4 = 32\n",
      "8 X 5 = 40\n",
      "8 X 6 = 48\n",
      "8 X 7 = 56\n",
      "8 X 8 = 64\n",
      "8 X 9 = 72\n",
      "[' + str(i) + 단']\n",
      "9 X 1 = 9\n",
      "9 X 2 = 18\n",
      "9 X 3 = 27\n",
      "9 X 4 = 36\n",
      "9 X 5 = 45\n",
      "9 X 6 = 54\n",
      "9 X 7 = 63\n",
      "9 X 8 = 72\n",
      "9 X 9 = 81\n"
     ]
    }
   ],
   "source": [
    "for i in range(2, 10):\n",
    "    print([\" + str(i) + 단\"])\n",
    "    for b in range(1, 10):\n",
    "        print(i, \"X\", b, \"=\", i*b)"
   ]
  },
  {
   "cell_type": "code",
   "execution_count": 45,
   "id": "dcc6c444-a672-4e1c-a6b6-52796198e0c5",
   "metadata": {
    "tags": []
   },
   "outputs": [
    {
     "name": "stdout",
     "output_type": "stream",
     "text": [
      "\n",
      " ----- 2 단 -----\n",
      "2  *  1  =  2\n",
      "2  *  2  =  4\n",
      "2  *  3  =  6\n",
      "2  *  4  =  8\n",
      "2  *  5  =  10\n",
      "2  *  6  =  12\n",
      "2  *  7  =  14\n",
      "2  *  8  =  16\n",
      "2  *  9  =  18\n",
      "\n",
      " ----- 3 단 -----\n",
      "3  *  1  =  3\n",
      "3  *  2  =  6\n",
      "3  *  3  =  9\n",
      "3  *  4  =  12\n",
      "3  *  5  =  15\n",
      "3  *  6  =  18\n",
      "3  *  7  =  21\n",
      "3  *  8  =  24\n",
      "3  *  9  =  27\n",
      "\n",
      " ----- 4 단 -----\n",
      "4  *  1  =  4\n",
      "4  *  2  =  8\n",
      "4  *  3  =  12\n",
      "4  *  4  =  16\n",
      "4  *  5  =  20\n",
      "4  *  6  =  24\n",
      "4  *  7  =  28\n",
      "4  *  8  =  32\n",
      "4  *  9  =  36\n",
      "\n",
      " ----- 5 단 -----\n",
      "\n",
      " ----- 6 단 -----\n",
      "6  *  1  =  6\n",
      "6  *  2  =  12\n",
      "6  *  3  =  18\n",
      "6  *  4  =  24\n",
      "6  *  5  =  30\n",
      "6  *  6  =  36\n",
      "6  *  7  =  42\n",
      "6  *  8  =  48\n",
      "6  *  9  =  54\n",
      "\n",
      " ----- 7 단 -----\n",
      "7  *  1  =  7\n",
      "7  *  2  =  14\n",
      "7  *  3  =  21\n",
      "7  *  4  =  28\n",
      "7  *  5  =  35\n",
      "7  *  6  =  42\n",
      "7  *  7  =  49\n",
      "7  *  8  =  56\n",
      "7  *  9  =  63\n",
      "\n",
      " ----- 8 단 -----\n",
      "8  *  1  =  8\n",
      "8  *  2  =  16\n",
      "8  *  3  =  24\n",
      "8  *  4  =  32\n",
      "8  *  5  =  40\n",
      "8  *  6  =  48\n",
      "8  *  7  =  56\n",
      "8  *  8  =  64\n",
      "8  *  9  =  72\n",
      "\n",
      " ----- 9 단 -----\n",
      "9  *  1  =  9\n",
      "9  *  2  =  18\n",
      "9  *  3  =  27\n",
      "9  *  4  =  36\n",
      "9  *  5  =  45\n",
      "9  *  6  =  54\n",
      "9  *  7  =  63\n",
      "9  *  8  =  72\n",
      "9  *  9  =  81\n"
     ]
    }
   ],
   "source": [
    "for x in range(2,10):\n",
    "    \n",
    "    print('\\n -----',x,'단 -----')\n",
    "    for y in range(1,10):\n",
    "        if x == 5: \n",
    "             break\n",
    "        print(x,' * ',y,' = ',x*y)\n",
    "        "
   ]
  },
  {
   "cell_type": "code",
   "execution_count": 41,
   "id": "07d47ed7-e483-425e-b8e4-c724bc9f02fd",
   "metadata": {},
   "outputs": [
    {
     "name": "stdout",
     "output_type": "stream",
     "text": [
      "2  *  1  =  2   3  *  1  =  3   4  *  1  =  4   5  *  1  =  5   6  *  1  =  6   7  *  1  =  7   8  *  1  =  8   9  *  1  =  9   \n",
      "2  *  2  =  4   3  *  2  =  6   4  *  2  =  8   5  *  2  =  10   6  *  2  =  12   7  *  2  =  14   8  *  2  =  16   9  *  2  =  18   \n",
      "2  *  3  =  6   3  *  3  =  9   4  *  3  =  12   5  *  3  =  15   6  *  3  =  18   7  *  3  =  21   8  *  3  =  24   9  *  3  =  27   \n",
      "2  *  4  =  8   3  *  4  =  12   4  *  4  =  16   5  *  4  =  20   6  *  4  =  24   7  *  4  =  28   8  *  4  =  32   9  *  4  =  36   \n",
      "2  *  5  =  10   3  *  5  =  15   4  *  5  =  20   5  *  5  =  25   6  *  5  =  30   7  *  5  =  35   8  *  5  =  40   9  *  5  =  45   \n",
      "2  *  6  =  12   3  *  6  =  18   4  *  6  =  24   5  *  6  =  30   6  *  6  =  36   7  *  6  =  42   8  *  6  =  48   9  *  6  =  54   \n",
      "2  *  7  =  14   3  *  7  =  21   4  *  7  =  28   5  *  7  =  35   6  *  7  =  42   7  *  7  =  49   8  *  7  =  56   9  *  7  =  63   \n",
      "2  *  8  =  16   3  *  8  =  24   4  *  8  =  32   5  *  8  =  40   6  *  8  =  48   7  *  8  =  56   8  *  8  =  64   9  *  8  =  72   \n",
      "2  *  9  =  18   3  *  9  =  27   4  *  9  =  36   5  *  9  =  45   6  *  9  =  54   7  *  9  =  63   8  *  9  =  72   9  *  9  =  81   \n"
     ]
    }
   ],
   "source": [
    "for x in range(1,10):\n",
    "    for y in range(2,10):\n",
    "        print(y,' * ',x,' = ',x*y, end='   ')\n",
    "    print()\n"
   ]
  },
  {
   "cell_type": "code",
   "execution_count": 47,
   "id": "8a9a5bb6-30b2-4028-afea-98094d278e5e",
   "metadata": {},
   "outputs": [
    {
     "name": "stdout",
     "output_type": "stream",
     "text": [
      "\n",
      " ----- 2 단 -----\n",
      "2  *  1  =  2\n",
      "2  *  2  =  4\n",
      "2  *  3  =  6\n",
      "2  *  4  =  8\n",
      "2  *  5  =  10\n",
      "2  *  6  =  12\n",
      "2  *  7  =  14\n",
      "2  *  8  =  16\n",
      "2  *  9  =  18\n",
      "\n",
      " ----- 3 단 -----\n",
      "3  *  1  =  3\n",
      "3  *  2  =  6\n",
      "3  *  3  =  9\n",
      "3  *  4  =  12\n",
      "3  *  5  =  15\n",
      "3  *  6  =  18\n",
      "3  *  7  =  21\n",
      "3  *  8  =  24\n",
      "3  *  9  =  27\n",
      "\n",
      " ----- 4 단 -----\n",
      "4  *  1  =  4\n",
      "4  *  2  =  8\n",
      "4  *  3  =  12\n",
      "4  *  4  =  16\n",
      "4  *  5  =  20\n",
      "4  *  6  =  24\n",
      "4  *  7  =  28\n",
      "4  *  8  =  32\n",
      "4  *  9  =  36\n",
      "\n",
      " ----- 6 단 -----\n",
      "6  *  1  =  6\n",
      "6  *  2  =  12\n",
      "6  *  3  =  18\n",
      "6  *  4  =  24\n",
      "6  *  5  =  30\n",
      "6  *  6  =  36\n",
      "6  *  7  =  42\n",
      "6  *  8  =  48\n",
      "6  *  9  =  54\n",
      "\n",
      " ----- 7 단 -----\n",
      "7  *  1  =  7\n",
      "7  *  2  =  14\n",
      "7  *  3  =  21\n",
      "7  *  4  =  28\n",
      "7  *  5  =  35\n",
      "7  *  6  =  42\n",
      "7  *  7  =  49\n",
      "7  *  8  =  56\n",
      "7  *  9  =  63\n",
      "\n",
      " ----- 8 단 -----\n",
      "8  *  1  =  8\n",
      "8  *  2  =  16\n",
      "8  *  3  =  24\n",
      "8  *  4  =  32\n",
      "8  *  5  =  40\n",
      "8  *  6  =  48\n",
      "8  *  7  =  56\n",
      "8  *  8  =  64\n",
      "8  *  9  =  72\n",
      "\n",
      " ----- 9 단 -----\n",
      "9  *  1  =  9\n",
      "9  *  2  =  18\n",
      "9  *  3  =  27\n",
      "9  *  4  =  36\n",
      "9  *  5  =  45\n",
      "9  *  6  =  54\n",
      "9  *  7  =  63\n",
      "9  *  8  =  72\n",
      "9  *  9  =  81\n"
     ]
    }
   ],
   "source": [
    "for x in range(2,10):\n",
    "    if x == 5:\n",
    "             continue\n",
    "    print('\\n -----',x,'단 -----')\n",
    "    for y in range(1,10):\n",
    "        print(x,' * ',y,' = ',x*y)"
   ]
  },
  {
   "cell_type": "code",
   "execution_count": 48,
   "id": "3ee4e1f2-278c-40a8-bec5-ba65fc0493d0",
   "metadata": {},
   "outputs": [],
   "source": [
    "# 짝수단만 출력해보세여"
   ]
  },
  {
   "cell_type": "code",
   "execution_count": 59,
   "id": "586560d0-0b96-4f4b-a6e2-e92d2a9663a7",
   "metadata": {},
   "outputs": [
    {
     "name": "stdout",
     "output_type": "stream",
     "text": [
      "\n",
      " ----- 2 단 -----\n",
      "2  *  1  =  2\n",
      "2  *  2  =  4\n",
      "2  *  3  =  6\n",
      "2  *  4  =  8\n",
      "2  *  5  =  10\n",
      "2  *  6  =  12\n",
      "2  *  7  =  14\n",
      "2  *  8  =  16\n",
      "2  *  9  =  18\n",
      "\n",
      " ----- 4 단 -----\n",
      "4  *  1  =  4\n",
      "4  *  2  =  8\n",
      "4  *  3  =  12\n",
      "4  *  4  =  16\n",
      "4  *  5  =  20\n",
      "4  *  6  =  24\n",
      "4  *  7  =  28\n",
      "4  *  8  =  32\n",
      "4  *  9  =  36\n",
      "\n",
      " ----- 6 단 -----\n",
      "6  *  1  =  6\n",
      "6  *  2  =  12\n",
      "6  *  3  =  18\n",
      "6  *  4  =  24\n",
      "6  *  5  =  30\n",
      "6  *  6  =  36\n",
      "6  *  7  =  42\n",
      "6  *  8  =  48\n",
      "6  *  9  =  54\n",
      "\n",
      " ----- 8 단 -----\n",
      "8  *  1  =  8\n",
      "8  *  2  =  16\n",
      "8  *  3  =  24\n",
      "8  *  4  =  32\n",
      "8  *  5  =  40\n",
      "8  *  6  =  48\n",
      "8  *  7  =  56\n",
      "8  *  8  =  64\n",
      "8  *  9  =  72\n"
     ]
    }
   ],
   "source": [
    "for x in range(2,10):\n",
    "    if (x % 2) == 1:\n",
    "                continue\n",
    "    print('\\n -----',x,'단 -----')\n",
    "    for y in range(1,10):\n",
    "        print(x,' * ',y,' = ',x*y)"
   ]
  },
  {
   "cell_type": "code",
   "execution_count": 2,
   "id": "0ac3dd13-5b9d-4abf-ac6a-078e56fa46c7",
   "metadata": {
    "tags": []
   },
   "outputs": [
    {
     "name": "stdout",
     "output_type": "stream",
     "text": [
      "5\n",
      "4\n",
      "3\n",
      "2\n",
      "1\n"
     ]
    }
   ],
   "source": [
    "data = [1,2,3,4,5]\n",
    "while(data):\n",
    "    print(data.pop())"
   ]
  },
  {
   "cell_type": "code",
   "execution_count": 4,
   "id": "1791fbe2-5b3e-48c8-b2d0-cec431b44103",
   "metadata": {},
   "outputs": [
    {
     "name": "stdin",
     "output_type": "stream",
     "text": [
      "1. 데이터 입력, 2. 데이터 수정 3. 데이터 삭제 4.종료 >>> 1\n",
      "1. 데이터 입력, 2. 데이터 수정 3. 데이터 삭제 4.종료 >>> 2\n",
      "1. 데이터 입력, 2. 데이터 수정 3. 데이터 삭제 4.종료 >>> 4\n"
     ]
    },
    {
     "name": "stdout",
     "output_type": "stream",
     "text": [
      "프로그램 종료\n"
     ]
    }
   ],
   "source": [
    "while(1):\n",
    "    menu = input('1. 데이터 입력, 2. 데이터 수정 3. 데이터 삭제 4.종료 >>>')\n",
    "    if menu == '1':\n",
    "        pass\n",
    "    elif menu == '2':\n",
    "        pass\n",
    "    elif menu == '3':\n",
    "        pass\n",
    "    elif menu == '4':\n",
    "        print('프로그램 종료')\n",
    "        break"
   ]
  },
  {
   "cell_type": "code",
   "execution_count": 15,
   "id": "f57c9cb4-c5c2-4d2b-b053-cf202c2136b7",
   "metadata": {},
   "outputs": [],
   "source": [
    "import random"
   ]
  },
  {
   "cell_type": "code",
   "execution_count": 21,
   "id": "99304dbd-fa51-4fb0-8b97-6c101e42f2f8",
   "metadata": {},
   "outputs": [
    {
     "name": "stdout",
     "output_type": "stream",
     "text": [
      "29\n"
     ]
    },
    {
     "name": "stdin",
     "output_type": "stream",
     "text": [
      "숫자를 맞혀 보세요. (1~100) >>>  30\n"
     ]
    },
    {
     "name": "stdout",
     "output_type": "stream",
     "text": [
      "숫자가 너무 큽니다.\n"
     ]
    },
    {
     "name": "stdin",
     "output_type": "stream",
     "text": [
      "숫자를 맞혀 보세요.(1~100) >>>  29\n"
     ]
    },
    {
     "ename": "NameError",
     "evalue": "name 'el' is not defined",
     "output_type": "error",
     "traceback": [
      "\u001b[1;31m---------------------------------------------------------------------------\u001b[0m",
      "\u001b[1;31mNameError\u001b[0m                                 Traceback (most recent call last)",
      "\u001b[1;32m~\\AppData\\Local\\Temp\\ipykernel_17672\\1205261796.py\u001b[0m in \u001b[0;36m<module>\u001b[1;34m\u001b[0m\n\u001b[0;32m      8\u001b[0m         \u001b[0mprint\u001b[0m\u001b[1;33m(\u001b[0m\u001b[1;34m'숫자가 너무 작습니다.'\u001b[0m\u001b[1;33m)\u001b[0m\u001b[1;33m\u001b[0m\u001b[1;33m\u001b[0m\u001b[0m\n\u001b[0;32m      9\u001b[0m     \u001b[0musers_input\u001b[0m \u001b[1;33m=\u001b[0m \u001b[0mint\u001b[0m\u001b[1;33m(\u001b[0m\u001b[0minput\u001b[0m\u001b[1;33m(\u001b[0m\u001b[1;34m'숫자를 맞혀 보세요.(1~100) >>> '\u001b[0m\u001b[1;33m)\u001b[0m\u001b[1;33m)\u001b[0m\u001b[1;33m\u001b[0m\u001b[1;33m\u001b[0m\u001b[0m\n\u001b[1;32m---> 10\u001b[1;33m \u001b[0mel\u001b[0m\u001b[1;33m\u001b[0m\u001b[1;33m\u001b[0m\u001b[0m\n\u001b[0m\u001b[0;32m     11\u001b[0m \u001b[0mprint\u001b[0m\u001b[1;33m(\u001b[0m\u001b[1;34m'정답입니다. 입력한 숫자는'\u001b[0m\u001b[1;33m,\u001b[0m\u001b[0musers_input\u001b[0m\u001b[1;33m)\u001b[0m\u001b[1;33m\u001b[0m\u001b[1;33m\u001b[0m\u001b[0m\n",
      "\u001b[1;31mNameError\u001b[0m: name 'el' is not defined"
     ]
    }
   ],
   "source": [
    "guess_number = random.randint(1,100)\n",
    "print(guess_number)\n",
    "users_input = int(input('숫자를 맞혀 보세요. (1~100) >>> '))\n",
    "while(users_input is not guess_number):\n",
    "    if users_input > guess_number:\n",
    "        print('숫자가 너무 큽니다.')\n",
    "    else:\n",
    "        print('숫자가 너무 작습니다.')\n",
    "    users_input = int(input('숫자를 맞혀 보세요.(1~100) >>> '))\n",
    "el\n",
    "print('정답입니다. 입력한 숫자는',users_input)"
   ]
  },
  {
   "cell_type": "code",
   "execution_count": 22,
   "id": "a34fa137-be4c-453c-9553-74cfe55bbfde",
   "metadata": {},
   "outputs": [],
   "source": [
    "## 로또 번호 생성\n",
    "##5셋트의 번호를 추출합니다.\n",
    "##1셋트에 번호는 6개 추출합니다.\n",
    "##6개의 번호는 중복되지 않습니다.\n",
    "##추출후 번호는 오름차순으로 정렬해서 출력합니다."
   ]
  },
  {
   "cell_type": "code",
   "execution_count": 23,
   "id": "4e120522-c509-4868-8e72-2c27451a126a",
   "metadata": {},
   "outputs": [],
   "source": [
    "import random"
   ]
  },
  {
   "cell_type": "code",
   "execution_count": 24,
   "id": "5bb7dd57-22cb-4e7d-a401-7c53ba2f02e1",
   "metadata": {},
   "outputs": [
    {
     "name": "stdout",
     "output_type": "stream",
     "text": [
      "[1, 6, 12, 22, 34, 41]\n",
      "[2, 16, 18, 36, 41, 43]\n",
      "[4, 16, 37, 39, 42, 44]\n",
      "[5, 13, 22, 25, 36, 41]\n",
      "[14, 19, 26, 32, 35, 44]\n"
     ]
    }
   ],
   "source": [
    "result = []\n",
    "for i in range(5):\n",
    "    lotto = [0,0,0,0,0,0]\n",
    "    for x in range(6):\n",
    "        num = 0\n",
    "        while(num in lotto):\n",
    "            num = random.randint(1,45)\n",
    "        lotto[x] = num\n",
    "    lotto.sort()\n",
    "    result.append(lotto)\n",
    "    print(lotto)"
   ]
  },
  {
   "cell_type": "code",
   "execution_count": 25,
   "id": "0f7423b0-e53e-4083-8e32-c45bf59ef30f",
   "metadata": {},
   "outputs": [
    {
     "name": "stdout",
     "output_type": "stream",
     "text": [
      "[11, 41, 13, 4, 29, 23]\n",
      "[28, 44, 40, 10, 37, 31]\n",
      "[45, 31, 39, 35, 14, 6]\n",
      "[22, 40, 23, 6, 7, 35]\n",
      "[31, 18, 4, 3, 43, 28]\n"
     ]
    }
   ],
   "source": [
    "for i in range(5):\n",
    "    print(random.sample(range(1,46),6))"
   ]
  },
  {
   "cell_type": "code",
   "execution_count": 26,
   "id": "4b47ec66-f75b-4dcd-a610-badb60807e93",
   "metadata": {},
   "outputs": [
    {
     "name": "stdout",
     "output_type": "stream",
     "text": [
      "[3, 6, 9, 22, 32, 35]\n",
      "[7, 18, 20, 22, 23, 29]\n",
      "[10, 11, 18, 27, 28, 41]\n",
      "[12, 18, 19, 26, 30, 33]\n",
      "[4, 12, 23, 30, 32, 35]\n"
     ]
    }
   ],
   "source": [
    "for i in range(5):\n",
    "    print(sorted(random.sample(range(1,46),6)))"
   ]
  },
  {
   "cell_type": "code",
   "execution_count": 1,
   "id": "74c40521-4788-4f36-9f48-1b0894781521",
   "metadata": {},
   "outputs": [],
   "source": [
    "import random"
   ]
  },
  {
   "cell_type": "code",
   "execution_count": 4,
   "id": "a7897518-c4e1-46e6-90d0-6995a679c0f7",
   "metadata": {},
   "outputs": [
    {
     "ename": "SyntaxError",
     "evalue": "invalid syntax (270715378.py, line 2)",
     "output_type": "error",
     "traceback": [
      "\u001b[1;36m  File \u001b[1;32m\"C:\\Users\\admin\\AppData\\Local\\Temp\\ipykernel_20744\\270715378.py\"\u001b[1;36m, line \u001b[1;32m2\u001b[0m\n\u001b[1;33m    for c_num1, c_num2 in range(1,50)\u001b[0m\n\u001b[1;37m                                     ^\u001b[0m\n\u001b[1;31mSyntaxError\u001b[0m\u001b[1;31m:\u001b[0m invalid syntax\n"
     ]
    }
   ],
   "source": [
    "c_num1, c_num2 = random.randint\n",
    "for\n",
    "c_num1 = random.randint(1,50)\n",
    "\n",
    "while(c_num1,c_num2 == 0):\n",
    "      break\n",
    "else:\n",
    "      print(c_num1, \"+\", c_num2, \"=\", c_num1+c_num2)\n",
    "      print(c_num1, \"-\", c_num2, \"=\", c_num1-c_num2)\n",
    "      print(c_num1, \"*\", c_num2, \"=\", c_num1*c_num2)\n",
    "      print(c_num1, \"/\", c_num2, \"=\", c_num1/c_num2)"
   ]
  },
  {
   "cell_type": "markdown",
   "id": "bf106ceb-66b4-433b-82b8-3d058ed278ea",
   "metadata": {},
   "source": [
    " 1. 야구게임\n",
    " 중복되지 않은 3자리 숫자를 컴퓨터가 정하면 그 숫자를 맞출 때까지 반복한다.(0은 제외)\n",
    " 숫자와 자리 위치까지 일치하면 스트라이크\n",
    " 숫자는 있는데 자리는 맞지 않다면 볼\n",
    " 스트라이크가 3개가 되면 맞춘 것이므로 멈춘다.\n",
    " 몇 번 만에 맞춘 것인지 횟수도 체크한다.\n",
    " \n",
    " 컴퓨터  246    입력 128    1볼\n",
    " 컴퓨터  246    입력 279    1스트라이크"
   ]
  },
  {
   "cell_type": "code",
   "execution_count": 14,
   "id": "31f9bd9f-1ba6-4ad4-af9e-7d039c3e9522",
   "metadata": {},
   "outputs": [
    {
     "name": "stdout",
     "output_type": "stream",
     "text": [
      "[8, 3, 7]\n",
      "시작!\n"
     ]
    },
    {
     "name": "stdin",
     "output_type": "stream",
     "text": [
      "3자리 숫자를 입력하세요 >>> 888\n"
     ]
    },
    {
     "name": "stdout",
     "output_type": "stream",
     "text": [
      "['8', '8', '8']\n",
      "strike: 3 ball: 0  시도횟수: 1\n",
      "정답!\n"
     ]
    }
   ],
   "source": [
    " import random\n",
    "\n",
    "com = random.sample( range(1,10) ,3)\n",
    "print(com)\n",
    "strike = 0\n",
    "count = 0\n",
    "print('시작!')\n",
    "while strike != 3:\n",
    "    strike = 0\n",
    "    ball = 0\n",
    "    guess = list(input('3자리 숫자를 입력하세요 >>>'))\n",
    "    print(guess)\n",
    "    for a in guess:\n",
    "        for b in com:\n",
    "            if int(a) == b:\n",
    "                if guess.index(a) == com.index(b):\n",
    "                    strike += 1\n",
    "                else: \n",
    "                    ball += 1\n",
    "    \n",
    "    count += 1\n",
    "    print('strike:',strike, 'ball:', ball, ' 시도횟수:', count)\n",
    "print('정답!')"
   ]
  },
  {
   "cell_type": "markdown",
   "id": "f39a3456-f9f9-41a5-9896-9b259eb1f79c",
   "metadata": {},
   "source": [
    " 2. 사칙연산게임\n",
    " 컴퓨터가 사칙연산 문제를 내면 답을 맞추는 게임\n",
    " 컴퓨터는 두 개의 숫자와 연산자를 무작위로 선택한다.\n",
    " 숫자값은 1~50 범위에서 선택\n",
    " 사칙연산만 가능, 나누기는 결과값을 정수로 변경 후 처리.\n",
    "\n",
    " 컴퓨터  2 + 4\n",
    "        5 - 8\n",
    "        3 * 4\n",
    "        8 / 3    -> 답은 2로 처리"
   ]
  },
  {
   "cell_type": "code",
   "execution_count": 19,
   "id": "e58fad5b-9c70-4356-835d-4c277b7cb3d9",
   "metadata": {},
   "outputs": [
    {
     "name": "stdout",
     "output_type": "stream",
     "text": [
      "31 + 14 =\n"
     ]
    },
    {
     "name": "stdin",
     "output_type": "stream",
     "text": [
      "정답 >>>  45\n"
     ]
    },
    {
     "name": "stdout",
     "output_type": "stream",
     "text": [
      "정답\n",
      "35 + 43 =\n"
     ]
    },
    {
     "name": "stdin",
     "output_type": "stream",
     "text": [
      "정답 >>>  78\n"
     ]
    },
    {
     "name": "stdout",
     "output_type": "stream",
     "text": [
      "정답\n",
      "31 - 22 =\n"
     ]
    },
    {
     "name": "stdin",
     "output_type": "stream",
     "text": [
      "정답 >>>  9\n"
     ]
    },
    {
     "name": "stdout",
     "output_type": "stream",
     "text": [
      "정답\n",
      "41 + 12 =\n"
     ]
    },
    {
     "name": "stdin",
     "output_type": "stream",
     "text": [
      "정답 >>>  53\n"
     ]
    },
    {
     "name": "stdout",
     "output_type": "stream",
     "text": [
      "정답\n",
      "1 - 43 =\n"
     ]
    },
    {
     "name": "stdin",
     "output_type": "stream",
     "text": [
      "정답 >>>  -42\n"
     ]
    },
    {
     "name": "stdout",
     "output_type": "stream",
     "text": [
      "정답\n",
      "5 개 맞음!-!\n"
     ]
    }
   ],
   "source": [
    "import random\n",
    "\n",
    "oper = ['+', '-', '*', '/']\n",
    "count = 0\n",
    "for x in range(5):\n",
    "    a = random.randint(1,50)\n",
    "    b = random.randint(1,50)\n",
    "    op = oper[random.randint(0,3)]\n",
    "    print(a,op,b, '=')\n",
    "    answer = int(input('정답 >>> '))\n",
    "    result = 0\n",
    "    if op == '+':\n",
    "        result = a+b\n",
    "    elif op == '-':\n",
    "        result = a-b\n",
    "    elif op == '*':\n",
    "        result = a*b\n",
    "    elif op == '/':\n",
    "        result = int(a/b)\n",
    "    if answer == result:\n",
    "        print('정답')\n",
    "        count += 1\n",
    "    else:\n",
    "        print('오답!')\n",
    "print(count,'개 맞음!-!')"
   ]
  },
  {
   "cell_type": "code",
   "execution_count": 23,
   "id": "9950f463-c418-46ca-a370-6cd57b04ab0b",
   "metadata": {},
   "outputs": [
    {
     "name": "stdout",
     "output_type": "stream",
     "text": [
      "24*25 =\n"
     ]
    },
    {
     "name": "stdin",
     "output_type": "stream",
     "text": [
      "정답 >>>  1\n"
     ]
    },
    {
     "name": "stdout",
     "output_type": "stream",
     "text": [
      "오답!\n",
      "17/38 =\n"
     ]
    },
    {
     "name": "stdin",
     "output_type": "stream",
     "text": [
      "정답 >>>  1\n"
     ]
    },
    {
     "name": "stdout",
     "output_type": "stream",
     "text": [
      "오답!\n",
      "34*17 =\n"
     ]
    },
    {
     "name": "stdin",
     "output_type": "stream",
     "text": [
      "정답 >>>  1\n"
     ]
    },
    {
     "name": "stdout",
     "output_type": "stream",
     "text": [
      "오답!\n",
      "13*37 =\n"
     ]
    },
    {
     "name": "stdin",
     "output_type": "stream",
     "text": [
      "정답 >>>  1\n"
     ]
    },
    {
     "name": "stdout",
     "output_type": "stream",
     "text": [
      "오답!\n",
      "17+31 =\n"
     ]
    },
    {
     "name": "stdin",
     "output_type": "stream",
     "text": [
      "정답 >>>  1\n"
     ]
    },
    {
     "name": "stdout",
     "output_type": "stream",
     "text": [
      "오답!\n",
      "0 개 맞음!-!\n"
     ]
    }
   ],
   "source": [
    "import random\n",
    "\n",
    "oper = ['+', '-', '*', '/']\n",
    "count = 0\n",
    "for x in range(5):\n",
    "    a = random.randint(1,50)\n",
    "    b = random.randint(1,50)\n",
    "    op = random.choice(oper)\n",
    "    quiz = str(a)+op+str(b)\n",
    "    print(quiz, '=')\n",
    "    answer = int(input('정답 >>> '))\n",
    "    result = 0\n",
    "  \n",
    "    if answer == int(eval(quiz)):\n",
    "        print('정답')\n",
    "        count += 1\n",
    "    else:\n",
    "        print('오답!')\n",
    "print(count,'개 맞음!-!')"
   ]
  },
  {
   "cell_type": "code",
   "execution_count": 24,
   "id": "9bc9fd5e-1d74-4fd0-960d-1c87da41d1c1",
   "metadata": {},
   "outputs": [
    {
     "data": {
      "text/plain": [
       "'print(1+2)'"
      ]
     },
     "execution_count": 24,
     "metadata": {},
     "output_type": "execute_result"
    }
   ],
   "source": [
    "'print(1+2)'"
   ]
  },
  {
   "cell_type": "code",
   "execution_count": 25,
   "id": "6d953ec5-799d-4f95-b71f-e05a2b1b1178",
   "metadata": {},
   "outputs": [
    {
     "name": "stdout",
     "output_type": "stream",
     "text": [
      "3\n"
     ]
    }
   ],
   "source": [
    "eval('print(1+2)')"
   ]
  },
  {
   "cell_type": "code",
   "execution_count": null,
   "id": "325108d4-df0d-42ea-98fb-eb0a76f0262c",
   "metadata": {},
   "outputs": [],
   "source": []
  }
 ],
 "metadata": {
  "kernelspec": {
   "display_name": "Python 3 (ipykernel)",
   "language": "python",
   "name": "python3"
  },
  "language_info": {
   "codemirror_mode": {
    "name": "ipython",
    "version": 3
   },
   "file_extension": ".py",
   "mimetype": "text/x-python",
   "name": "python",
   "nbconvert_exporter": "python",
   "pygments_lexer": "ipython3",
   "version": "3.9.13"
  }
 },
 "nbformat": 4,
 "nbformat_minor": 5
}
