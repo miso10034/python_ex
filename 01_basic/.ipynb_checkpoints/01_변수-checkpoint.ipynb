{
 "cells": [
  {
   "cell_type": "markdown",
   "id": "ec6e1274-0e18-4d01-a912-0bb6623df817",
   "metadata": {},
   "source": [
    "# 변수선언"
   ]
  },
  {
   "cell_type": "code",
   "execution_count": 2,
   "id": "c16f4821-cbe3-47de-b6b7-e83b699aa1c4",
   "metadata": {},
   "outputs": [],
   "source": [
    "professor = \"choi\""
   ]
  },
  {
   "cell_type": "code",
   "execution_count": 3,
   "id": "a4030a7c-51cc-4056-9a11-7671ea8972d3",
   "metadata": {},
   "outputs": [
    {
     "data": {
      "text/plain": [
       "'choi'"
      ]
     },
     "execution_count": 3,
     "metadata": {},
     "output_type": "execute_result"
    }
   ],
   "source": [
    "professor"
   ]
  },
  {
   "cell_type": "code",
   "execution_count": 5,
   "id": "c9a53ee8-4f57-444e-be55-d27f64199008",
   "metadata": {},
   "outputs": [
    {
     "name": "stdout",
     "output_type": "stream",
     "text": [
      "choi\n"
     ]
    }
   ],
   "source": [
    "print(professor)"
   ]
  },
  {
   "cell_type": "code",
   "execution_count": 8,
   "id": "02886a5c-dcfb-4067-93b2-3ff207f530ff",
   "metadata": {},
   "outputs": [
    {
     "data": {
      "text/plain": [
       "7"
      ]
     },
     "execution_count": 8,
     "metadata": {},
     "output_type": "execute_result"
    }
   ],
   "source": [
    "a = 7\n",
    "a"
   ]
  },
  {
   "cell_type": "code",
   "execution_count": 9,
   "id": "556cac44-8b8f-4e92-89c7-0569fad8ebcc",
   "metadata": {},
   "outputs": [
    {
     "data": {
      "text/plain": [
       "5"
      ]
     },
     "execution_count": 9,
     "metadata": {},
     "output_type": "execute_result"
    }
   ],
   "source": [
    "b = 5\n",
    "a\n",
    "b"
   ]
  },
  {
   "cell_type": "code",
   "execution_count": 12,
   "id": "cf593c5e-e3d6-49a2-b8a3-349c860971c4",
   "metadata": {},
   "outputs": [
    {
     "data": {
      "text/plain": [
       "1"
      ]
     },
     "execution_count": 12,
     "metadata": {},
     "output_type": "execute_result"
    }
   ],
   "source": [
    "a=1\n",
    "a"
   ]
  },
  {
   "cell_type": "code",
   "execution_count": 13,
   "id": "68a07bc9-e26a-4d96-9808-56d56c4296d8",
   "metadata": {},
   "outputs": [
    {
     "data": {
      "text/plain": [
       "int"
      ]
     },
     "execution_count": 13,
     "metadata": {},
     "output_type": "execute_result"
    }
   ],
   "source": [
    "type(a)"
   ]
  },
  {
   "cell_type": "code",
   "execution_count": 14,
   "id": "df110764-0a8d-4c1e-b2cb-7482e9f3254c",
   "metadata": {},
   "outputs": [
    {
     "ename": "AttributeError",
     "evalue": "'int' object has no attribute 'a'",
     "output_type": "error",
     "traceback": [
      "\u001b[1;31m---------------------------------------------------------------------------\u001b[0m",
      "\u001b[1;31mAttributeError\u001b[0m                            Traceback (most recent call last)",
      "\u001b[1;32m~\\AppData\\Local\\Temp\\ipykernel_4048\\153906225.py\u001b[0m in \u001b[0;36m<module>\u001b[1;34m\u001b[0m\n\u001b[1;32m----> 1\u001b[1;33m \u001b[0ma\u001b[0m\u001b[1;33m.\u001b[0m\u001b[0ma\u001b[0m\u001b[1;33m=\u001b[0m\u001b[1;36m1\u001b[0m\u001b[1;33m\u001b[0m\u001b[1;33m\u001b[0m\u001b[0m\n\u001b[0m\u001b[0;32m      2\u001b[0m \u001b[0ma\u001b[0m\u001b[1;33m\u001b[0m\u001b[1;33m\u001b[0m\u001b[0m\n",
      "\u001b[1;31mAttributeError\u001b[0m: 'int' object has no attribute 'a'"
     ]
    }
   ],
   "source": [
    "a.a=1\n",
    "a"
   ]
  },
  {
   "cell_type": "code",
   "execution_count": 15,
   "id": "6c3d3af8-96f6-4bd5-ae19-4ad01a5aaaa3",
   "metadata": {},
   "outputs": [
    {
     "data": {
      "text/plain": [
       "1.1"
      ]
     },
     "execution_count": 15,
     "metadata": {},
     "output_type": "execute_result"
    }
   ],
   "source": [
    "a=1.1\n",
    "a"
   ]
  },
  {
   "cell_type": "code",
   "execution_count": 16,
   "id": "ede96493-440c-4fb0-ab5d-b71f4fd95159",
   "metadata": {},
   "outputs": [
    {
     "data": {
      "text/plain": [
       "float"
      ]
     },
     "execution_count": 16,
     "metadata": {},
     "output_type": "execute_result"
    }
   ],
   "source": [
    "type(a)"
   ]
  },
  {
   "cell_type": "code",
   "execution_count": 23,
   "id": "24a8432c-6652-4c23-9792-c54ec596b048",
   "metadata": {},
   "outputs": [
    {
     "data": {
      "text/plain": [
       "'한 글'"
      ]
     },
     "execution_count": 23,
     "metadata": {},
     "output_type": "execute_result"
    }
   ],
   "source": [
    "a = '한 글'\n",
    "a"
   ]
  },
  {
   "cell_type": "code",
   "execution_count": 18,
   "id": "ba63e26c-240d-4438-9b6d-e7c378ece37a",
   "metadata": {},
   "outputs": [
    {
     "data": {
      "text/plain": [
       "'한글'"
      ]
     },
     "execution_count": 18,
     "metadata": {},
     "output_type": "execute_result"
    }
   ],
   "source": [
    "a"
   ]
  },
  {
   "cell_type": "code",
   "execution_count": 19,
   "id": "24126d08-e513-4896-ab37-e1d4d53a084e",
   "metadata": {},
   "outputs": [
    {
     "data": {
      "text/plain": [
       "str"
      ]
     },
     "execution_count": 19,
     "metadata": {},
     "output_type": "execute_result"
    }
   ],
   "source": [
    "type(a)"
   ]
  },
  {
   "cell_type": "code",
   "execution_count": 24,
   "id": "5d72033c-6a56-4935-9e73-20875b8f4435",
   "metadata": {},
   "outputs": [
    {
     "ename": "NameError",
     "evalue": "name 'TRUE' is not defined",
     "output_type": "error",
     "traceback": [
      "\u001b[1;31m---------------------------------------------------------------------------\u001b[0m",
      "\u001b[1;31mNameError\u001b[0m                                 Traceback (most recent call last)",
      "\u001b[1;32m~\\AppData\\Local\\Temp\\ipykernel_4048\\3792023386.py\u001b[0m in \u001b[0;36m<module>\u001b[1;34m\u001b[0m\n\u001b[1;32m----> 1\u001b[1;33m \u001b[0ma\u001b[0m \u001b[1;33m=\u001b[0m \u001b[0mTRUE\u001b[0m\u001b[1;33m\u001b[0m\u001b[1;33m\u001b[0m\u001b[0m\n\u001b[0m\u001b[0;32m      2\u001b[0m \u001b[0ma\u001b[0m\u001b[1;33m\u001b[0m\u001b[1;33m\u001b[0m\u001b[0m\n",
      "\u001b[1;31mNameError\u001b[0m: name 'TRUE' is not defined"
     ]
    }
   ],
   "source": [
    "a = TRUE\n",
    "a"
   ]
  },
  {
   "cell_type": "code",
   "execution_count": 25,
   "id": "2e9cc07b-95bd-4d2d-a850-14f5248c936b",
   "metadata": {},
   "outputs": [
    {
     "data": {
      "text/plain": [
       "True"
      ]
     },
     "execution_count": 25,
     "metadata": {},
     "output_type": "execute_result"
    }
   ],
   "source": [
    "a = True\n",
    "a"
   ]
  },
  {
   "cell_type": "code",
   "execution_count": 26,
   "id": "dd7dda1d-cb9c-4645-9eec-48cc50c0c4cd",
   "metadata": {},
   "outputs": [
    {
     "ename": "NameError",
     "evalue": "name 'TYPE' is not defined",
     "output_type": "error",
     "traceback": [
      "\u001b[1;31m---------------------------------------------------------------------------\u001b[0m",
      "\u001b[1;31mNameError\u001b[0m                                 Traceback (most recent call last)",
      "\u001b[1;32m~\\AppData\\Local\\Temp\\ipykernel_4048\\852244245.py\u001b[0m in \u001b[0;36m<module>\u001b[1;34m\u001b[0m\n\u001b[1;32m----> 1\u001b[1;33m \u001b[0mTYPE\u001b[0m\u001b[1;33m(\u001b[0m\u001b[0ma\u001b[0m\u001b[1;33m)\u001b[0m\u001b[1;33m\u001b[0m\u001b[1;33m\u001b[0m\u001b[0m\n\u001b[0m\u001b[0;32m      2\u001b[0m \u001b[0ma\u001b[0m\u001b[1;33m\u001b[0m\u001b[1;33m\u001b[0m\u001b[0m\n",
      "\u001b[1;31mNameError\u001b[0m: name 'TYPE' is not defined"
     ]
    }
   ],
   "source": [
    "TYPE(a)\n",
    "a"
   ]
  },
  {
   "cell_type": "code",
   "execution_count": 27,
   "id": "aa33fec2-787d-4a45-86a8-9481a6253a1f",
   "metadata": {},
   "outputs": [
    {
     "data": {
      "text/plain": [
       "True"
      ]
     },
     "execution_count": 27,
     "metadata": {},
     "output_type": "execute_result"
    }
   ],
   "source": [
    "type(a)\n",
    "a"
   ]
  },
  {
   "cell_type": "code",
   "execution_count": 28,
   "id": "b4e96bd4-44c9-4e18-9d89-b65f75ebe5dc",
   "metadata": {},
   "outputs": [
    {
     "data": {
      "text/plain": [
       "bool"
      ]
     },
     "execution_count": 28,
     "metadata": {},
     "output_type": "execute_result"
    }
   ],
   "source": [
    "type(a)"
   ]
  },
  {
   "cell_type": "code",
   "execution_count": 31,
   "id": "bc4cbfb3-6f5f-40c8-92ac-b136042d7b3b",
   "metadata": {},
   "outputs": [
    {
     "ename": "SyntaxError",
     "evalue": "invalid syntax (1024753452.py, line 1)",
     "output_type": "error",
     "traceback": [
      "\u001b[1;36m  File \u001b[1;32m\"C:\\Users\\admin\\AppData\\Local\\Temp\\ipykernel_4048\\1024753452.py\"\u001b[1;36m, line \u001b[1;32m1\u001b[0m\n\u001b[1;33m    7up = 8\u001b[0m\n\u001b[1;37m     ^\u001b[0m\n\u001b[1;31mSyntaxError\u001b[0m\u001b[1;31m:\u001b[0m invalid syntax\n"
     ]
    }
   ],
   "source": [
    "7up = 8\n",
    "7up"
   ]
  },
  {
   "cell_type": "code",
   "execution_count": 32,
   "id": "0fdec3e7-5ea5-4243-93ea-cf2f5d0b5771",
   "metadata": {},
   "outputs": [
    {
     "data": {
      "text/plain": [
       "'ㅁㅁㅁ'"
      ]
     },
     "execution_count": 32,
     "metadata": {},
     "output_type": "execute_result"
    }
   ],
   "source": [
    "한글 = 'ㅁㅁㅁ'\n",
    "한글"
   ]
  },
  {
   "cell_type": "code",
   "execution_count": 33,
   "id": "515b8d3f-573b-4f65-849d-76cb2a2836a3",
   "metadata": {},
   "outputs": [
    {
     "data": {
      "text/plain": [
       "(7, 9)"
      ]
     },
     "execution_count": 33,
     "metadata": {},
     "output_type": "execute_result"
    }
   ],
   "source": [
    "aaa =7\n",
    "AAA = 9\n",
    "aaa,AAA"
   ]
  },
  {
   "cell_type": "code",
   "execution_count": 34,
   "id": "869ed1eb-f4b6-4134-87f8-908fa12529f4",
   "metadata": {},
   "outputs": [
    {
     "data": {
      "text/plain": [
       "\" kim's \""
      ]
     },
     "execution_count": 34,
     "metadata": {},
     "output_type": "execute_result"
    }
   ],
   "source": [
    "text = \" kim's \"\n",
    "text"
   ]
  },
  {
   "cell_type": "code",
   "execution_count": 40,
   "id": "634e1cf8-469c-4bac-851c-7c465a28733e",
   "metadata": {},
   "outputs": [
    {
     "name": "stdout",
     "output_type": "stream",
     "text": [
      "True,5, kim's  줄바꿈\n"
     ]
    }
   ],
   "source": [
    "print(a,b,text,sep=',',end=' ')\n",
    "print('줄바꿈')"
   ]
  },
  {
   "cell_type": "code",
   "execution_count": 41,
   "id": "2e194f7e-f44e-4cf2-9a77-425897de874d",
   "metadata": {},
   "outputs": [
    {
     "name": "stdin",
     "output_type": "stream",
     "text": [
      "숫자를 입력하세요 >>>  7\n"
     ]
    },
    {
     "data": {
      "text/plain": [
       "'7'"
      ]
     },
     "execution_count": 41,
     "metadata": {},
     "output_type": "execute_result"
    }
   ],
   "source": [
    "input('숫자를 입력하세요 >>> ')"
   ]
  },
  {
   "cell_type": "code",
   "execution_count": 42,
   "id": "3dedd670-5bfa-4a17-bf31-e4e5dd5a5032",
   "metadata": {},
   "outputs": [
    {
     "name": "stdin",
     "output_type": "stream",
     "text": [
      "숫자를 입력하세요 >>>  9\n"
     ]
    }
   ],
   "source": [
    "a = input('숫자를 입력하세요 >>> ')"
   ]
  },
  {
   "cell_type": "code",
   "execution_count": 43,
   "id": "f62a988c-da5a-4350-9146-24081d779202",
   "metadata": {},
   "outputs": [
    {
     "data": {
      "text/plain": [
       "'9'"
      ]
     },
     "execution_count": 43,
     "metadata": {},
     "output_type": "execute_result"
    }
   ],
   "source": [
    "a"
   ]
  },
  {
   "cell_type": "code",
   "execution_count": 44,
   "id": "49ef4f64-50fd-49df-ad8d-f963d48db286",
   "metadata": {},
   "outputs": [
    {
     "data": {
      "text/plain": [
       "9"
      ]
     },
     "execution_count": 44,
     "metadata": {},
     "output_type": "execute_result"
    }
   ],
   "source": [
    "int(a)"
   ]
  },
  {
   "cell_type": "code",
   "execution_count": 45,
   "id": "cc887f82-f023-44f8-afd3-00e115b4588d",
   "metadata": {},
   "outputs": [
    {
     "data": {
      "text/plain": [
       "str"
      ]
     },
     "execution_count": 45,
     "metadata": {},
     "output_type": "execute_result"
    }
   ],
   "source": [
    "type(a)"
   ]
  },
  {
   "cell_type": "code",
   "execution_count": 46,
   "id": "06b21028-93b9-4744-8ec2-9e429d06f18b",
   "metadata": {},
   "outputs": [
    {
     "data": {
      "text/plain": [
       "9"
      ]
     },
     "execution_count": 46,
     "metadata": {},
     "output_type": "execute_result"
    }
   ],
   "source": [
    "a = int(a)\n",
    "a"
   ]
  },
  {
   "cell_type": "code",
   "execution_count": 47,
   "id": "ba6677a0-66b4-43e0-aede-80f60e976d69",
   "metadata": {},
   "outputs": [
    {
     "data": {
      "text/plain": [
       "int"
      ]
     },
     "execution_count": 47,
     "metadata": {},
     "output_type": "execute_result"
    }
   ],
   "source": [
    "type(a)"
   ]
  },
  {
   "cell_type": "code",
   "execution_count": 48,
   "id": "4833dd84-31d4-4f60-8887-e2b27e0ccabf",
   "metadata": {},
   "outputs": [],
   "source": [
    "# 과일을 상자에 담으려고 합니다.\n",
    "# 한상자에 들어가는 과일의 갯수와, 총 과일의 수의 입력받아서\n",
    "# 몇박스 몇개가 나오는지 출력하세요"
   ]
  },
  {
   "cell_type": "code",
   "execution_count": 50,
   "id": "09f9e03b-7bd7-48bd-aeaf-d33f08b4961b",
   "metadata": {},
   "outputs": [],
   "source": [
    "k = 8\n",
    "b = 48"
   ]
  },
  {
   "cell_type": "code",
   "execution_count": 51,
   "id": "86384796-6a2b-4c3d-9a93-13df61137a8c",
   "metadata": {},
   "outputs": [
    {
     "data": {
      "text/plain": [
       "6.0"
      ]
     },
     "execution_count": 51,
     "metadata": {},
     "output_type": "execute_result"
    }
   ],
   "source": [
    "b / k"
   ]
  },
  {
   "cell_type": "code",
   "execution_count": 52,
   "id": "978f3dbc-aa1f-4346-a546-6769aa207d1a",
   "metadata": {},
   "outputs": [
    {
     "data": {
      "text/plain": [
       "112"
      ]
     },
     "execution_count": 52,
     "metadata": {},
     "output_type": "execute_result"
    }
   ],
   "source": [
    "b =900\n",
    "b//k"
   ]
  },
  {
   "cell_type": "code",
   "execution_count": 53,
   "id": "788528de-5fa7-4f9a-b50c-940d0c0087f1",
   "metadata": {},
   "outputs": [
    {
     "data": {
      "text/plain": [
       "139984046386112763159840142535527767382602843577165595931249318810236991948760059086304843329475444736"
      ]
     },
     "execution_count": 53,
     "metadata": {},
     "output_type": "execute_result"
    }
   ],
   "source": [
    "k**112"
   ]
  },
  {
   "cell_type": "code",
   "execution_count": 54,
   "id": "1f5521c1-0d69-4f15-88c3-7bdb5dcf22d4",
   "metadata": {},
   "outputs": [
    {
     "data": {
      "text/plain": [
       "896"
      ]
     },
     "execution_count": 54,
     "metadata": {},
     "output_type": "execute_result"
    }
   ],
   "source": [
    "k*112"
   ]
  },
  {
   "cell_type": "code",
   "execution_count": 55,
   "id": "7f91f7ab-6d6b-4a70-b4db-3028b08ebd77",
   "metadata": {},
   "outputs": [],
   "source": [
    "# 과일을 상자에 담으려고 합니다.\n",
    "# 한상자에 들어가는 과일의 갯수와, 총 과일의 수의 입력받아서\n",
    "# 몇박스 몇개가 나오는지 출력하세요"
   ]
  },
  {
   "cell_type": "code",
   "execution_count": 57,
   "id": "954c1e5b-5be4-44c2-a48c-ef56595442d8",
   "metadata": {},
   "outputs": [
    {
     "name": "stdin",
     "output_type": "stream",
     "text": [
      "box에 들어가는 과일의 수 >>> 6\n",
      "총갯수 >>>  45\n"
     ]
    },
    {
     "name": "stdout",
     "output_type": "stream",
     "text": [
      "7 박스 3 개\n"
     ]
    }
   ],
   "source": [
    "box = int (input('box에 들어가는 과일의 수 >>>'))\n",
    "total = int(input('총갯수 >>> '))\n",
    "print(total//box, '박스',total%box, '개')"
   ]
  },
  {
   "cell_type": "code",
   "execution_count": 63,
   "id": "d2111a59-c9f5-4302-a173-78f12e29a906",
   "metadata": {},
   "outputs": [],
   "source": [
    "colors = ['red', 'blue', 'green',1,1.2,[1,2,3]]"
   ]
  },
  {
   "cell_type": "code",
   "execution_count": 59,
   "id": "aa3c3d1c-9d21-4857-96a6-2be1658db0c4",
   "metadata": {},
   "outputs": [
    {
     "data": {
      "text/plain": [
       "list"
      ]
     },
     "execution_count": 59,
     "metadata": {},
     "output_type": "execute_result"
    }
   ],
   "source": [
    "type(colors)"
   ]
  },
  {
   "cell_type": "code",
   "execution_count": 61,
   "id": "41699dda-8696-48dd-801c-ddfcd7744a1a",
   "metadata": {},
   "outputs": [],
   "source": [
    "colors = {'red', 'blue', 'green',1,1.2}"
   ]
  },
  {
   "cell_type": "code",
   "execution_count": 62,
   "id": "1601fd9f-aa3e-4ad2-b668-63b86fabbdf5",
   "metadata": {},
   "outputs": [
    {
     "data": {
      "text/plain": [
       "set"
      ]
     },
     "execution_count": 62,
     "metadata": {},
     "output_type": "execute_result"
    }
   ],
   "source": [
    "type(colors)"
   ]
  },
  {
   "cell_type": "code",
   "execution_count": 64,
   "id": "1ea25fe6-ab85-4bd9-ae7a-82a5b319d1ad",
   "metadata": {},
   "outputs": [
    {
     "data": {
      "text/plain": [
       "'green'"
      ]
     },
     "execution_count": 64,
     "metadata": {},
     "output_type": "execute_result"
    }
   ],
   "source": [
    "colors[2]"
   ]
  },
  {
   "cell_type": "code",
   "execution_count": 65,
   "id": "0e8ab245-7932-47e2-bf0a-8ffc2bd1b8c2",
   "metadata": {},
   "outputs": [
    {
     "data": {
      "text/plain": [
       "str"
      ]
     },
     "execution_count": 65,
     "metadata": {},
     "output_type": "execute_result"
    }
   ],
   "source": [
    "type(colors[2])"
   ]
  },
  {
   "cell_type": "code",
   "execution_count": 67,
   "id": "6db0b47c-7ff5-4fa8-b424-6333bbedea8e",
   "metadata": {},
   "outputs": [
    {
     "data": {
      "text/plain": [
       "list"
      ]
     },
     "execution_count": 67,
     "metadata": {},
     "output_type": "execute_result"
    }
   ],
   "source": [
    "type(colors[5])"
   ]
  },
  {
   "cell_type": "code",
   "execution_count": 68,
   "id": "4d97ce4a-6ef0-40b4-820d-b99ca6df73a3",
   "metadata": {},
   "outputs": [
    {
     "data": {
      "text/plain": [
       "[1, 2, 3]"
      ]
     },
     "execution_count": 68,
     "metadata": {},
     "output_type": "execute_result"
    }
   ],
   "source": [
    "colors[5]"
   ]
  },
  {
   "cell_type": "code",
   "execution_count": 69,
   "id": "4d3674ab-77e3-47f1-8308-ba27835c247f",
   "metadata": {},
   "outputs": [
    {
     "data": {
      "text/plain": [
       "2"
      ]
     },
     "execution_count": 69,
     "metadata": {},
     "output_type": "execute_result"
    }
   ],
   "source": [
    "colors[5][1]"
   ]
  },
  {
   "cell_type": "code",
   "execution_count": 71,
   "id": "0b95e64c-4350-40bb-9889-c43a48f7451c",
   "metadata": {},
   "outputs": [
    {
     "data": {
      "text/plain": [
       "['blue', 'green']"
      ]
     },
     "execution_count": 71,
     "metadata": {},
     "output_type": "execute_result"
    }
   ],
   "source": [
    "colors[1:3]"
   ]
  },
  {
   "cell_type": "code",
   "execution_count": 72,
   "id": "7dc8ff07-a7f1-46c4-862b-65760a2351ed",
   "metadata": {},
   "outputs": [],
   "source": [
    "colors = ['red', 'blue', 'green',1,1.2,[1,2,3]]\n",
    "cities = ['서울','부산','광주']"
   ]
  },
  {
   "cell_type": "code",
   "execution_count": 73,
   "id": "9e39b835-1b9d-4fb3-9b84-74c3317ec233",
   "metadata": {},
   "outputs": [
    {
     "data": {
      "text/plain": [
       "['red', 'blue', 'green', 1, 1.2, [1, 2, 3], '서울', '부산', '광주']"
      ]
     },
     "execution_count": 73,
     "metadata": {},
     "output_type": "execute_result"
    }
   ],
   "source": [
    "colors + cities"
   ]
  },
  {
   "cell_type": "code",
   "execution_count": 77,
   "id": "8f6b2596-37c5-43b9-8f86-b0d75976b0d0",
   "metadata": {},
   "outputs": [
    {
     "data": {
      "text/plain": [
       "['red',\n",
       " 'blue',\n",
       " 'green',\n",
       " 1,\n",
       " 1.2,\n",
       " [1, 2, 3],\n",
       " 'red',\n",
       " 'blue',\n",
       " 'green',\n",
       " 1,\n",
       " 1.2,\n",
       " [1, 2, 3],\n",
       " 'red',\n",
       " 'blue',\n",
       " 'green',\n",
       " 1,\n",
       " 1.2,\n",
       " [1, 2, 3]]"
      ]
     },
     "execution_count": 77,
     "metadata": {},
     "output_type": "execute_result"
    }
   ],
   "source": [
    "colors * 3"
   ]
  },
  {
   "cell_type": "code",
   "execution_count": 79,
   "id": "3e2fb06f-f2e3-4048-80c0-0b2044526139",
   "metadata": {},
   "outputs": [
    {
     "data": {
      "text/plain": [
       "2.1"
      ]
     },
     "execution_count": 79,
     "metadata": {},
     "output_type": "execute_result"
    }
   ],
   "source": [
    "1.1+1"
   ]
  },
  {
   "cell_type": "code",
   "execution_count": 80,
   "id": "fc7c3277-4839-44b5-a6ce-02a8343d8c3a",
   "metadata": {},
   "outputs": [
    {
     "data": {
      "text/plain": [
       "True"
      ]
     },
     "execution_count": 80,
     "metadata": {},
     "output_type": "execute_result"
    }
   ],
   "source": [
    "'blue' in colors"
   ]
  },
  {
   "cell_type": "code",
   "execution_count": null,
   "id": "2bf5a738-5b30-46c7-a390-9d1264dd9d6a",
   "metadata": {},
   "outputs": [],
   "source": []
  }
 ],
 "metadata": {
  "kernelspec": {
   "display_name": "Python 3 (ipykernel)",
   "language": "python",
   "name": "python3"
  },
  "language_info": {
   "codemirror_mode": {
    "name": "ipython",
    "version": 3
   },
   "file_extension": ".py",
   "mimetype": "text/x-python",
   "name": "python",
   "nbconvert_exporter": "python",
   "pygments_lexer": "ipython3",
   "version": "3.9.13"
  }
 },
 "nbformat": 4,
 "nbformat_minor": 5
}
