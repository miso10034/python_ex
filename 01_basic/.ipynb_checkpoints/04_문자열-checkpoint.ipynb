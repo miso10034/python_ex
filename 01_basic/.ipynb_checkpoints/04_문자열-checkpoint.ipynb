{
 "cells": [
  {
   "cell_type": "code",
   "execution_count": 8,
   "id": "865283c9-0efe-45fb-9422-a74bc635f147",
   "metadata": {},
   "outputs": [
    {
     "data": {
      "text/plain": [
       "'abcde'"
      ]
     },
     "execution_count": 8,
     "metadata": {},
     "output_type": "execute_result"
    }
   ],
   "source": [
    "a = 'abcde'\n",
    "a"
   ]
  },
  {
   "cell_type": "code",
   "execution_count": 2,
   "id": "231a4c79-4f24-4bec-872c-7ff8372aeda3",
   "metadata": {},
   "outputs": [
    {
     "data": {
      "text/plain": [
       "'d'"
      ]
     },
     "execution_count": 2,
     "metadata": {},
     "output_type": "execute_result"
    }
   ],
   "source": [
    "a[3]"
   ]
  },
  {
   "cell_type": "code",
   "execution_count": null,
   "id": "560e5fbd-51ba-4171-8d80-eda192168e5a",
   "metadata": {},
   "outputs": [],
   "source": [
    "a"
   ]
  },
  {
   "cell_type": "code",
   "execution_count": 3,
   "id": "bcbdf077-cba9-468c-b0bb-4ee2a67e3019",
   "metadata": {},
   "outputs": [
    {
     "name": "stdout",
     "output_type": "stream",
     "text": [
      "TEAMLA AND ME Python\n"
     ]
    }
   ],
   "source": [
    "a = 'TEAMLAB MOOC, AWESOME Python'\n",
    "print(a[0:6], \"AND\",a[-9:])"
   ]
  },
  {
   "cell_type": "code",
   "execution_count": 4,
   "id": "835757bf-7a47-4c9d-9b0d-68ddc73873c3",
   "metadata": {},
   "outputs": [
    {
     "name": "stdout",
     "output_type": "stream",
     "text": [
      "TEAMLAB MOOC, AWESOME Python\n"
     ]
    }
   ],
   "source": [
    "print(a[:])"
   ]
  },
  {
   "cell_type": "code",
   "execution_count": 5,
   "id": "6188ddf5-b2bb-477d-bc18-b93448911cb2",
   "metadata": {},
   "outputs": [
    {
     "name": "stdout",
     "output_type": "stream",
     "text": [
      "TEAMLAB MOOC, AWESOME Python\n"
     ]
    }
   ],
   "source": [
    "print(a[-50:50])"
   ]
  },
  {
   "cell_type": "code",
   "execution_count": 6,
   "id": "984bc1ca-4420-4e83-9884-265f3d574688",
   "metadata": {},
   "outputs": [
    {
     "name": "stdout",
     "output_type": "stream",
     "text": [
      "TALBMO,AEOEPto AND nohtyP EMOSEWA ,COOM BALMAET\n"
     ]
    }
   ],
   "source": [
    "print(a[::2],'AND',a[::-1])"
   ]
  },
  {
   "cell_type": "code",
   "execution_count": 9,
   "id": "30a39a3c-8b94-43de-8654-0cec271ec2ac",
   "metadata": {},
   "outputs": [
    {
     "data": {
      "text/plain": [
       "5"
      ]
     },
     "execution_count": 9,
     "metadata": {},
     "output_type": "execute_result"
    }
   ],
   "source": [
    "len(a)"
   ]
  },
  {
   "cell_type": "code",
   "execution_count": 10,
   "id": "8e31b80f-f92a-4cd7-8ea8-3e660fdeed4e",
   "metadata": {},
   "outputs": [],
   "source": [
    "title = 'TEAMLAB X inflearn'"
   ]
  },
  {
   "cell_type": "code",
   "execution_count": 11,
   "id": "e3043b8b-dbe9-440d-88c7-7bb147444a05",
   "metadata": {},
   "outputs": [
    {
     "data": {
      "text/plain": [
       "'TEAMLAB X INFLEARN'"
      ]
     },
     "execution_count": 11,
     "metadata": {},
     "output_type": "execute_result"
    }
   ],
   "source": [
    "title.upper()"
   ]
  },
  {
   "cell_type": "code",
   "execution_count": 12,
   "id": "079bbb62-4ba4-4805-9ec5-bc7a02143538",
   "metadata": {},
   "outputs": [
    {
     "data": {
      "text/plain": [
       "'teamlab x inflearn'"
      ]
     },
     "execution_count": 12,
     "metadata": {},
     "output_type": "execute_result"
    }
   ],
   "source": [
    "title.lower()"
   ]
  },
  {
   "cell_type": "code",
   "execution_count": 13,
   "id": "0747b352-7e27-400a-b3b3-13ec076f05e3",
   "metadata": {},
   "outputs": [
    {
     "data": {
      "text/plain": [
       "'Teamlab X Inflearn'"
      ]
     },
     "execution_count": 13,
     "metadata": {},
     "output_type": "execute_result"
    }
   ],
   "source": [
    "title.title()"
   ]
  },
  {
   "cell_type": "code",
   "execution_count": 14,
   "id": "dfc6d445-de02-4deb-93c7-f3cba5291597",
   "metadata": {},
   "outputs": [
    {
     "data": {
      "text/plain": [
       "'Teamlab x inflearn'"
      ]
     },
     "execution_count": 14,
     "metadata": {},
     "output_type": "execute_result"
    }
   ],
   "source": [
    "title.capitalize()"
   ]
  },
  {
   "cell_type": "code",
   "execution_count": 19,
   "id": "777cffc1-d258-494f-8cf6-2b6c1918298a",
   "metadata": {},
   "outputs": [
    {
     "data": {
      "text/plain": [
       "2"
      ]
     },
     "execution_count": 19,
     "metadata": {},
     "output_type": "execute_result"
    }
   ],
   "source": [
    "title.lower().count('e')"
   ]
  },
  {
   "cell_type": "code",
   "execution_count": 26,
   "id": "4fe04051-0132-499c-8ff8-6fb70c4be601",
   "metadata": {},
   "outputs": [
    {
     "data": {
      "text/plain": [
       "1"
      ]
     },
     "execution_count": 26,
     "metadata": {},
     "output_type": "execute_result"
    }
   ],
   "source": [
    "title.count('e',0,15)"
   ]
  },
  {
   "cell_type": "code",
   "execution_count": 22,
   "id": "2b8897be-3bba-4d2b-b413-2dec67db15fa",
   "metadata": {},
   "outputs": [
    {
     "data": {
      "text/plain": [
       "1"
      ]
     },
     "execution_count": 22,
     "metadata": {},
     "output_type": "execute_result"
    }
   ],
   "source": [
    "title.find('E')"
   ]
  },
  {
   "cell_type": "code",
   "execution_count": 30,
   "id": "afb4589c-8a34-4bbb-8666-a550c68dcf13",
   "metadata": {},
   "outputs": [
    {
     "data": {
      "text/plain": [
       "True"
      ]
     },
     "execution_count": 30,
     "metadata": {},
     "output_type": "execute_result"
    }
   ],
   "source": [
    "title.startswith('TEAM')"
   ]
  },
  {
   "cell_type": "code",
   "execution_count": 32,
   "id": "5481f02f-798f-49ab-b654-bd0cc5107b3d",
   "metadata": {},
   "outputs": [
    {
     "data": {
      "text/plain": [
       "True"
      ]
     },
     "execution_count": 32,
     "metadata": {},
     "output_type": "execute_result"
    }
   ],
   "source": [
    "title.endswith('rn')"
   ]
  },
  {
   "cell_type": "code",
   "execution_count": 33,
   "id": "d2b015a7-db28-49db-9db0-84d05f3b04cd",
   "metadata": {},
   "outputs": [
    {
     "data": {
      "text/plain": [
       "['TEAMLAB', 'X', 'inflearn']"
      ]
     },
     "execution_count": 33,
     "metadata": {},
     "output_type": "execute_result"
    }
   ],
   "source": [
    "title.split()"
   ]
  },
  {
   "cell_type": "markdown",
   "id": "4db64ea8-d626-4474-a4f7-1182f371052e",
   "metadata": {},
   "source": [
    "# import random\n",
    "\n",
    "oper = ['+', '-', '*', '/']\n",
    "count = 0\n",
    "for x in range(5):\n",
    "    a = random.randint(1,50)\n",
    "    b = random.randint(1,50)\n",
    "    op = random.choice(oper)\n",
    "    quiz = str(a)+op+str(b)\n",
    "    print(quiz, '=')\n",
    "    answer = ''\n",
    "    while not answer.isdigit():\n",
    "        answer = input('정답 >>> ')\n",
    "    answer = int(answer)\n",
    "    result = 0\n",
    "  \n",
    "    if answer == int(eval(quiz)):\n",
    "        print('정답')\n",
    "        count += 1\n",
    "    else:\n",
    "        print('오답!')\n",
    "print(count,'개 맞음!-!')"
   ]
  },
  {
   "cell_type": "code",
   "execution_count": 40,
   "id": "c1a6ffef-212e-4f21-b31b-1d5c6bb53add",
   "metadata": {},
   "outputs": [],
   "source": [
    "a = 'i eat %d apples' %3"
   ]
  },
  {
   "cell_type": "code",
   "execution_count": 41,
   "id": "84f60807-af10-4af3-ac2a-f812958666e2",
   "metadata": {},
   "outputs": [
    {
     "data": {
      "text/plain": [
       "'i eat 3 apples'"
      ]
     },
     "execution_count": 41,
     "metadata": {},
     "output_type": "execute_result"
    }
   ],
   "source": [
    "a"
   ]
  },
  {
   "cell_type": "code",
   "execution_count": 48,
   "id": "97b62fa2-e28f-45e8-80f0-dd83d11b8a75",
   "metadata": {},
   "outputs": [
    {
     "name": "stdin",
     "output_type": "stream",
     "text": [
      "사과의 갯수는 >>> 44\n"
     ]
    }
   ],
   "source": [
    "count = input('사과의 갯수는 >>>')\n",
    "a = 'i eat %s apples' %(count)"
   ]
  },
  {
   "cell_type": "code",
   "execution_count": 49,
   "id": "ed700593-ea9c-40a7-9b91-2567b994de8f",
   "metadata": {},
   "outputs": [
    {
     "data": {
      "text/plain": [
       "'i eat 44 apples'"
      ]
     },
     "execution_count": 49,
     "metadata": {},
     "output_type": "execute_result"
    }
   ],
   "source": [
    "a"
   ]
  },
  {
   "cell_type": "code",
   "execution_count": 50,
   "id": "24038056-f990-4036-a489-7cb9069184d1",
   "metadata": {},
   "outputs": [
    {
     "data": {
      "text/plain": [
       "'I eat 3 apples'"
      ]
     },
     "execution_count": 50,
     "metadata": {},
     "output_type": "execute_result"
    }
   ],
   "source": [
    "'I eat {} apples'.format(3)"
   ]
  },
  {
   "cell_type": "code",
   "execution_count": 51,
   "id": "ad83aadd-e0ab-4e66-9b78-186c9c9ffa89",
   "metadata": {},
   "outputs": [
    {
     "data": {
      "text/plain": [
       "'I ate three apples. so I was sick for 10 days.'"
      ]
     },
     "execution_count": 51,
     "metadata": {},
     "output_type": "execute_result"
    }
   ],
   "source": [
    "number = 10\n",
    "day = 'three'\n",
    "'I ate {1} apples. so I was sick for {0} days.'.format(number, day)"
   ]
  },
  {
   "cell_type": "code",
   "execution_count": 53,
   "id": "5a841920-adf6-4fe0-b459-75ed50c42193",
   "metadata": {},
   "outputs": [
    {
     "name": "stdin",
     "output_type": "stream",
     "text": [
      "이름은 >>> 김미소\n",
      "나이는 >>>  26\n"
     ]
    },
    {
     "name": "stdout",
     "output_type": "stream",
     "text": [
      "이름은    김미소    이고, 나이는 26.0살 입니다.\n"
     ]
    }
   ],
   "source": [
    "name = input('이름은 >>>')\n",
    "age = int(input('나이는 >>> '))\n",
    "print(f'이름은 {name:^10}이고, 나이는 {age:.1f}살 입니다.')"
   ]
  },
  {
   "cell_type": "code",
   "execution_count": 55,
   "id": "53c77790-1821-4b5c-b2f4-61a87c6127f0",
   "metadata": {},
   "outputs": [],
   "source": [
    "dic = {'name':'pey','phone':'01012345678','birth':'1118'}"
   ]
  },
  {
   "cell_type": "code",
   "execution_count": 56,
   "id": "7e4907b4-4e6b-4455-8276-e172aefaa3e9",
   "metadata": {},
   "outputs": [
    {
     "data": {
      "text/plain": [
       "'pey'"
      ]
     },
     "execution_count": 56,
     "metadata": {},
     "output_type": "execute_result"
    }
   ],
   "source": [
    "dic['name']"
   ]
  },
  {
   "cell_type": "code",
   "execution_count": 57,
   "id": "b6d02017-7c36-4039-8509-35ab238b721e",
   "metadata": {},
   "outputs": [],
   "source": [
    "dic['address'] ='광주'"
   ]
  },
  {
   "cell_type": "code",
   "execution_count": 58,
   "id": "b8d89c9a-f451-467b-acfe-9b749dbd5301",
   "metadata": {},
   "outputs": [
    {
     "data": {
      "text/plain": [
       "{'name': 'pey', 'phone': '01012345678', 'birth': '1118', 'address': '광주'}"
      ]
     },
     "execution_count": 58,
     "metadata": {},
     "output_type": "execute_result"
    }
   ],
   "source": [
    "dic"
   ]
  },
  {
   "cell_type": "code",
   "execution_count": 59,
   "id": "41855869-434b-4099-ade2-e3f13d572ba5",
   "metadata": {},
   "outputs": [],
   "source": [
    "dic['name'] = '홍길동'"
   ]
  },
  {
   "cell_type": "code",
   "execution_count": 60,
   "id": "108eb432-08f7-4728-b292-8eb4a5dcffc9",
   "metadata": {},
   "outputs": [
    {
     "data": {
      "text/plain": [
       "{'name': '홍길동', 'phone': '01012345678', 'birth': '1118', 'address': '광주'}"
      ]
     },
     "execution_count": 60,
     "metadata": {},
     "output_type": "execute_result"
    }
   ],
   "source": [
    "dic"
   ]
  },
  {
   "cell_type": "code",
   "execution_count": 61,
   "id": "c2bb1685-3b87-41fc-98d7-e4b32695ea9d",
   "metadata": {},
   "outputs": [],
   "source": [
    "del dic['address']"
   ]
  },
  {
   "cell_type": "code",
   "execution_count": 62,
   "id": "18dd96bc-b9ac-4496-b1de-ca6ecb11ed2c",
   "metadata": {},
   "outputs": [
    {
     "data": {
      "text/plain": [
       "{'name': '홍길동', 'phone': '01012345678', 'birth': '1118'}"
      ]
     },
     "execution_count": 62,
     "metadata": {},
     "output_type": "execute_result"
    }
   ],
   "source": [
    "dic"
   ]
  },
  {
   "cell_type": "code",
   "execution_count": 63,
   "id": "d5fdb0c6-40aa-49a9-8090-8ab2d74280c9",
   "metadata": {},
   "outputs": [
    {
     "data": {
      "text/plain": [
       "'홍길동'"
      ]
     },
     "execution_count": 63,
     "metadata": {},
     "output_type": "execute_result"
    }
   ],
   "source": [
    "dic['name']"
   ]
  },
  {
   "cell_type": "code",
   "execution_count": 64,
   "id": "7d12edcf-e754-41fb-bfa3-9a3c8f163ae7",
   "metadata": {},
   "outputs": [
    {
     "data": {
      "text/plain": [
       "dict_keys(['name', 'phone', 'birth'])"
      ]
     },
     "execution_count": 64,
     "metadata": {},
     "output_type": "execute_result"
    }
   ],
   "source": [
    "dic.keys()"
   ]
  },
  {
   "cell_type": "code",
   "execution_count": 65,
   "id": "aa152705-78dd-4226-9afe-031b2ef4ac5a",
   "metadata": {},
   "outputs": [
    {
     "data": {
      "text/plain": [
       "dict_items([('name', '홍길동'), ('phone', '01012345678'), ('birth', '1118')])"
      ]
     },
     "execution_count": 65,
     "metadata": {},
     "output_type": "execute_result"
    }
   ],
   "source": [
    "dic.items()"
   ]
  },
  {
   "cell_type": "code",
   "execution_count": 66,
   "id": "236f61e1-b1e4-4e59-9bbd-739d936e3624",
   "metadata": {},
   "outputs": [
    {
     "data": {
      "text/plain": [
       "'홍길동'"
      ]
     },
     "execution_count": 66,
     "metadata": {},
     "output_type": "execute_result"
    }
   ],
   "source": [
    "dic['name']"
   ]
  },
  {
   "cell_type": "code",
   "execution_count": 67,
   "id": "0415b649-e777-4ac0-a0ad-b8079e6ec9b7",
   "metadata": {},
   "outputs": [
    {
     "ename": "KeyError",
     "evalue": "'address'",
     "output_type": "error",
     "traceback": [
      "\u001b[1;31m---------------------------------------------------------------------------\u001b[0m",
      "\u001b[1;31mKeyError\u001b[0m                                  Traceback (most recent call last)",
      "\u001b[1;32m~\\AppData\\Local\\Temp\\ipykernel_23564\\1816033874.py\u001b[0m in \u001b[0;36m<module>\u001b[1;34m\u001b[0m\n\u001b[1;32m----> 1\u001b[1;33m \u001b[0mdic\u001b[0m\u001b[1;33m[\u001b[0m\u001b[1;34m'address'\u001b[0m\u001b[1;33m]\u001b[0m\u001b[1;33m\u001b[0m\u001b[1;33m\u001b[0m\u001b[0m\n\u001b[0m",
      "\u001b[1;31mKeyError\u001b[0m: 'address'"
     ]
    }
   ],
   "source": [
    "dic['address']"
   ]
  },
  {
   "cell_type": "code",
   "execution_count": 68,
   "id": "1e070ebf-6643-4c07-899b-339fc9947f3f",
   "metadata": {},
   "outputs": [],
   "source": [
    "dic.get('address')"
   ]
  },
  {
   "cell_type": "code",
   "execution_count": 69,
   "id": "98db3457-c337-47c0-a9e6-3d5df5985375",
   "metadata": {},
   "outputs": [
    {
     "data": {
      "text/plain": [
       "'홍길동'"
      ]
     },
     "execution_count": 69,
     "metadata": {},
     "output_type": "execute_result"
    }
   ],
   "source": [
    "dic.get('name')"
   ]
  },
  {
   "cell_type": "code",
   "execution_count": 70,
   "id": "6a91710b-0513-48f0-b1f8-8b13e216ec4b",
   "metadata": {},
   "outputs": [
    {
     "data": {
      "text/plain": [
       "True"
      ]
     },
     "execution_count": 70,
     "metadata": {},
     "output_type": "execute_result"
    }
   ],
   "source": [
    "'name' in dic"
   ]
  },
  {
   "cell_type": "code",
   "execution_count": 71,
   "id": "3f699a50-7350-4210-854f-4c7e61dd0280",
   "metadata": {},
   "outputs": [
    {
     "data": {
      "text/plain": [
       "False"
      ]
     },
     "execution_count": 71,
     "metadata": {},
     "output_type": "execute_result"
    }
   ],
   "source": [
    "'홍길동' in dic"
   ]
  },
  {
   "cell_type": "markdown",
   "id": "d694d959-ddc9-4b4d-967e-05819b63cd49",
   "metadata": {},
   "source": [
    "명함관리 프로그램\n",
    "\n",
    "테이터 구조는 리스트를 이용\n",
    "명함에 이름, 주소, 전화번호, 이메일을 입력받아서 저장, 수정, 삭제, 리스트, 검색 메뉴를 작성\n",
    "데이터는 이름으롱 구분합니다. 동명이인 불가"
   ]
  },
  {
   "cell_type": "code",
   "execution_count": null,
   "id": "9f027346-ff11-4094-9a95-4155819dbeef",
   "metadata": {},
   "outputs": [],
   "source": [
    "card=[['홍길동', '서울','111-1111-1111','hong@gmail.comm'],\n",
    "      ['김나리', '광주','111-1111-1112','kim@gmail.comm']]\n",
    "while True:\n",
    "    menu = input('''\n",
    "--------------------------------------------------\n",
    "1.저장  2.수정  3.삭제  4.리스트  5.검색  6.종료(Q)\n",
    "--------------------------------------------------\n",
    ">>>''')\n",
    "    if menu == '1':\n",
    "        while True:\n",
    "            name = input('이름을 입력하세요 >>>')\n",
    "            check = 0\n",
    "            for item in card:\n",
    "                if item[0] == name:\n",
    "                    check = 1\n",
    "            if check == 0:\n",
    "                    break\n",
    "            print('중복되는 이름이 있습니다.')\n",
    "                \n",
    "        address = input('주소를 입력하세요 >>>')\n",
    "        tel = input('전화번호를 입력하세요 >>>')\n",
    "        email = input('이메일을 입력하세요 >>>')\n",
    "        card.append([name,address,tel,email])\n",
    "        print(card)  \n",
    "\n",
    "    elif menu == '2':\n",
    "        name = input('수정할 데이터 이름 >>>')\n",
    "        idx = -1\n",
    "        for i, item in enumerate(card):\n",
    "            if item[0] == name:\n",
    "                idx = i\n",
    "                update = int(input('수정할 정보(1.address,2.tel,3.email)>>> '))\n",
    "                card[idx][update] = input('수정내용>>> ')\n",
    "                print(card[idx])\n",
    "                break\n",
    "        if idx == -1:\n",
    "            print('등록되지 않은 데이터 입니다.')     \n",
    "    elif menu == '3':\n",
    "        name = input('삭제할 이름 입력 >>>')\n",
    "        delok = 0\n",
    "        for i, item in enumerate(card):\n",
    "            if item[0] == name :\n",
    "                print(item,'삭제!!')\n",
    "                del card[i]\n",
    "                delok = 1\n",
    "                break\n",
    "        if delok == 0:\n",
    "            print('등록되지 않은 데이터 입니다.')\n",
    "            \n",
    "    elif menu == '4':\n",
    "        for item in card:\n",
    "            print(f'''\n",
    "----------------------------------------------\n",
    "    이   름 : {item[0]}\n",
    "    주   소 : {item[1]}\n",
    "    전화번호 : {item[2]}\n",
    "    이 메 일 : {item[3]} ''')\n",
    "    elif menu == '5':\n",
    "        name = input('검색할 이름 >>>')\n",
    "        idx = -1\n",
    "        for i, item in enumerate(card):\n",
    "            if item[0] == name:\n",
    "                idx = i\n",
    "                print(item)\n",
    "                break\n",
    "        if idx == -1:\n",
    "            print('등록되지 않은 데이터 입니다.')\n",
    "            \n",
    "    elif menu == '6':\n",
    "        print('프로그램 종료')\n",
    "        break\n",
    "    else:\n",
    "        print('메뉴선택을 잘못하셨습니다.')"
   ]
  },
  {
   "cell_type": "code",
   "execution_count": 6,
   "id": "21005f5f-8b0d-4ca4-a142-637ad35e2f72",
   "metadata": {},
   "outputs": [
    {
     "ename": "SyntaxError",
     "evalue": "invalid syntax (642633057.py, line 22)",
     "output_type": "error",
     "traceback": [
      "\u001b[1;36m  File \u001b[1;32m\"C:\\Users\\admin\\AppData\\Local\\Temp\\ipykernel_25440\\642633057.py\"\u001b[1;36m, line \u001b[1;32m22\u001b[0m\n\u001b[1;33m    if idx = -1:\u001b[0m\n\u001b[1;37m           ^\u001b[0m\n\u001b[1;31mSyntaxError\u001b[0m\u001b[1;31m:\u001b[0m invalid syntax\n"
     ]
    }
   ],
   "source": [
    "card=[['17890', 'c언어 정복하기','한빛'],\n",
    "     ['67890','파이썬을 잡아라','아카데미']]\n",
    "while True:\n",
    "    menu = input('''\n",
    "----------------------------------------------------\n",
    "1.저장  2.수정  3.삭제  4.리스트  5.검색  6.종료(Q)\n",
    "----------------------------------------------------\n",
    ">>>''')\n",
    "    if menu == '1':\n",
    "        while True:\n",
    "            booknumber = input('일련번호를 입력하세요 >>>')\n",
    "            check = 0\n",
    "            for item in card:\n",
    "                if item[0] == booknumber:\n",
    "                    check = 1\n",
    "\n",
    "            if check == 0:\n",
    "                        break\n",
    "                print('중복되는 일련번호가 있습니다.')\n",
    "\n",
    "        bookname = input('c책이름을 입력하세요 >>>')\n",
    "        bookoriented = input('출판사를 입력하세요 >>>')\n",
    "        card.append[(booknumber,bookname,bookoriented)]\n",
    "        print(card)\n",
    "\n",
    "    elif menu == '2':\n",
    "        booknumber = input('수정할 책일련번호 >>>')\n",
    "        idx = -1\n",
    "        for i, item in enumerate(card):\n",
    "            if item[0] == booknumber:\n",
    "                idx = i\n",
    "                update = int(input('수정할 정보(1.bookname, 2.bookoriented)>>>'))\n",
    "                card[idx][update] = input('수정내용 >>>')\n",
    "                print(card[idx])\n",
    "                break\n",
    "        if idx = -1:\n",
    "            print('등록되지 않은 데이터 입니다.')\n",
    "    elif menu == '3':\n",
    "        bookname = input('삭제할 책이름 입력 >>>')\n",
    "        delk = 0\n",
    "        for i, item in enumerate(card):\n",
    "            if item[0] == bookname:\n",
    "                print(item, '삭제한다!')\n",
    "                del card[i]\n",
    "                delk = 1\n",
    "                break\n",
    "        if delk == 0:\n",
    "            print('등록되지 않은 데이터 입니다.')\n",
    "\n",
    "    elif menu == '4':\n",
    "        for item in card\n",
    "            print (f'''\n",
    "------------------------------------------------\n",
    "    일 련 번 호 : {item[0]}\n",
    "    책   이  름 : {item[1]}\n",
    "    출   판  사 : {item[2]}''' )\n",
    "\n",
    "    elif menu == '5':\n",
    "        bookname = input('검색할 책 이름 >>>')\n",
    "        idx = -1\n",
    "        for i, item in enumerate(card):\n",
    "            if item[0] == bookname:\n",
    "                idx = i\n",
    "                print(item)\n",
    "                break\n",
    "        if idx == -1:\n",
    "            print('등록되지 않은 데이터 입니다.')\n",
    "\n",
    "    elif menu in ('6','q','Q'):\n",
    "        print('프로그램 종료')\n",
    "        break\n",
    "    else:\n",
    "        print('메뉴선택을 잘못하셨습니다.')"
   ]
  },
  {
   "cell_type": "code",
   "execution_count": null,
   "id": "a4eeac43-95ab-4c98-8ab0-1dc0b3767ea0",
   "metadata": {},
   "outputs": [],
   "source": []
  }
 ],
 "metadata": {
  "kernelspec": {
   "display_name": "Python 3 (ipykernel)",
   "language": "python",
   "name": "python3"
  },
  "language_info": {
   "codemirror_mode": {
    "name": "ipython",
    "version": 3
   },
   "file_extension": ".py",
   "mimetype": "text/x-python",
   "name": "python",
   "nbconvert_exporter": "python",
   "pygments_lexer": "ipython3",
   "version": "3.9.13"
  }
 },
 "nbformat": 4,
 "nbformat_minor": 5
}
