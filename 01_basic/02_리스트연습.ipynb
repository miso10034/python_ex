{
 "cells": [
  {
   "cell_type": "code",
   "execution_count": 8,
   "id": "9d4e0c99-17cd-4b26-9629-235cdb0899f4",
   "metadata": {
    "tags": []
   },
   "outputs": [
    {
     "data": {
      "text/plain": [
       "[1, 2, 3, 4, 5, [1, 2, 3]]"
      ]
     },
     "execution_count": 8,
     "metadata": {},
     "output_type": "execute_result"
    }
   ],
   "source": [
    "data_list = [1,2,3,4,5,[1,2,3]]\n",
    "data_list"
   ]
  },
  {
   "cell_type": "code",
   "execution_count": 9,
   "id": "a2aecf0c-20c0-40a3-ba21-1644619195ae",
   "metadata": {},
   "outputs": [
    {
     "data": {
      "text/plain": [
       "6"
      ]
     },
     "execution_count": 9,
     "metadata": {},
     "output_type": "execute_result"
    }
   ],
   "source": [
    "len(data_list)"
   ]
  },
  {
   "cell_type": "code",
   "execution_count": 10,
   "id": "1bd0289d-f4e5-4e80-b309-e47791e5c910",
   "metadata": {},
   "outputs": [
    {
     "data": {
      "text/plain": [
       "3"
      ]
     },
     "execution_count": 10,
     "metadata": {},
     "output_type": "execute_result"
    }
   ],
   "source": [
    "len(data_list[5])"
   ]
  },
  {
   "cell_type": "code",
   "execution_count": 12,
   "id": "732b5dd0-9fac-43c5-b708-f99067ccaa97",
   "metadata": {},
   "outputs": [
    {
     "data": {
      "text/plain": [
       "1"
      ]
     },
     "execution_count": 12,
     "metadata": {},
     "output_type": "execute_result"
    }
   ],
   "source": [
    "min(data_list[5])"
   ]
  },
  {
   "cell_type": "code",
   "execution_count": 13,
   "id": "ba1cd446-aa3b-405a-afc4-a391991bca4f",
   "metadata": {},
   "outputs": [
    {
     "data": {
      "text/plain": [
       "3"
      ]
     },
     "execution_count": 13,
     "metadata": {},
     "output_type": "execute_result"
    }
   ],
   "source": [
    "max(data_list[5])"
   ]
  },
  {
   "cell_type": "code",
   "execution_count": 16,
   "id": "23d3f4fc-4632-450c-921b-645f64f98c7e",
   "metadata": {},
   "outputs": [
    {
     "data": {
      "text/plain": [
       "[3, 2, 6, 1, 9]"
      ]
     },
     "execution_count": 16,
     "metadata": {},
     "output_type": "execute_result"
    }
   ],
   "source": [
    "data1 = [3,2,6,1,9]\n",
    "data1"
   ]
  },
  {
   "cell_type": "code",
   "execution_count": 17,
   "id": "cb306e1d-c25a-425b-a894-f6d625401720",
   "metadata": {},
   "outputs": [],
   "source": [
    "data1.sort()"
   ]
  },
  {
   "cell_type": "code",
   "execution_count": 18,
   "id": "ea0e3723-0b4a-488e-98fa-18b802e3cf1b",
   "metadata": {},
   "outputs": [
    {
     "data": {
      "text/plain": [
       "[1, 2, 3, 6, 9]"
      ]
     },
     "execution_count": 18,
     "metadata": {},
     "output_type": "execute_result"
    }
   ],
   "source": [
    "data1"
   ]
  },
  {
   "cell_type": "code",
   "execution_count": 19,
   "id": "403ccd8a-d33f-4075-8f8b-3441e6f124d5",
   "metadata": {},
   "outputs": [],
   "source": [
    "data1.sort(reverse=True)"
   ]
  },
  {
   "cell_type": "code",
   "execution_count": 20,
   "id": "b51e5f7e-8164-424c-826a-79516a88efb9",
   "metadata": {},
   "outputs": [
    {
     "data": {
      "text/plain": [
       "[9, 6, 3, 2, 1]"
      ]
     },
     "execution_count": 20,
     "metadata": {},
     "output_type": "execute_result"
    }
   ],
   "source": [
    "data1"
   ]
  },
  {
   "cell_type": "code",
   "execution_count": 21,
   "id": "177c36c5-bcea-442e-93c5-9c113b23f703",
   "metadata": {},
   "outputs": [],
   "source": [
    "data1[0] = 10"
   ]
  },
  {
   "cell_type": "code",
   "execution_count": 22,
   "id": "3115e683-f5a4-4f19-87d7-b1c5a68b0a3b",
   "metadata": {},
   "outputs": [
    {
     "data": {
      "text/plain": [
       "[10, 6, 3, 2, 1]"
      ]
     },
     "execution_count": 22,
     "metadata": {},
     "output_type": "execute_result"
    }
   ],
   "source": [
    "data1"
   ]
  },
  {
   "cell_type": "code",
   "execution_count": 25,
   "id": "f10e0143-50b5-436f-adfb-5c8fcf973fd6",
   "metadata": {},
   "outputs": [],
   "source": [
    "data1[1:3] = [2,2,3,4]"
   ]
  },
  {
   "cell_type": "code",
   "execution_count": 26,
   "id": "0427afdc-836d-4fd9-b67d-f4f9ef8ebbf3",
   "metadata": {},
   "outputs": [
    {
     "data": {
      "text/plain": [
       "[10, 2, 2, 3, 4, 2, 1]"
      ]
     },
     "execution_count": 26,
     "metadata": {},
     "output_type": "execute_result"
    }
   ],
   "source": [
    "data1"
   ]
  },
  {
   "cell_type": "code",
   "execution_count": 27,
   "id": "a4a2efb4-9885-4b0b-b6fe-70b90ab1ada3",
   "metadata": {},
   "outputs": [],
   "source": [
    "del data1[2]"
   ]
  },
  {
   "cell_type": "code",
   "execution_count": 28,
   "id": "28b3c1d1-1ff0-4e75-a97d-82080bb9137a",
   "metadata": {},
   "outputs": [
    {
     "data": {
      "text/plain": [
       "[10, 2, 3, 4, 2, 1]"
      ]
     },
     "execution_count": 28,
     "metadata": {},
     "output_type": "execute_result"
    }
   ],
   "source": [
    "data1"
   ]
  },
  {
   "cell_type": "code",
   "execution_count": 29,
   "id": "4aa1773c-5ecd-41bb-991f-bd3c70988cdd",
   "metadata": {},
   "outputs": [
    {
     "data": {
      "text/plain": [
       "[1, 2, 3]"
      ]
     },
     "execution_count": 29,
     "metadata": {},
     "output_type": "execute_result"
    }
   ],
   "source": [
    "data1 = [1,2,3]\n",
    "data1"
   ]
  },
  {
   "cell_type": "code",
   "execution_count": 30,
   "id": "f7188f0d-21ed-463a-9f2b-a1f00ddeb9c9",
   "metadata": {},
   "outputs": [],
   "source": [
    "data1.append(6)"
   ]
  },
  {
   "cell_type": "code",
   "execution_count": 31,
   "id": "94383127-8358-4bec-b2a1-424b12e6b188",
   "metadata": {},
   "outputs": [
    {
     "data": {
      "text/plain": [
       "[1, 2, 3, 6]"
      ]
     },
     "execution_count": 31,
     "metadata": {},
     "output_type": "execute_result"
    }
   ],
   "source": [
    "data1"
   ]
  },
  {
   "cell_type": "code",
   "execution_count": 32,
   "id": "a2cfd4da-cb19-4af3-8114-36bf501727fb",
   "metadata": {},
   "outputs": [
    {
     "data": {
      "text/plain": [
       "<function list.clear()>"
      ]
     },
     "execution_count": 32,
     "metadata": {},
     "output_type": "execute_result"
    }
   ],
   "source": [
    "data1.clear"
   ]
  },
  {
   "cell_type": "code",
   "execution_count": 33,
   "id": "66479282-959f-4c67-8ca4-368b0bff3d7d",
   "metadata": {},
   "outputs": [],
   "source": [
    "data1.clear()"
   ]
  },
  {
   "cell_type": "code",
   "execution_count": 34,
   "id": "6ddb0f8a-0679-4450-b729-1e686393cc23",
   "metadata": {},
   "outputs": [
    {
     "data": {
      "text/plain": [
       "[]"
      ]
     },
     "execution_count": 34,
     "metadata": {},
     "output_type": "execute_result"
    }
   ],
   "source": [
    "data1"
   ]
  },
  {
   "cell_type": "code",
   "execution_count": 35,
   "id": "3fdc928d-b549-414f-b296-57517aa6aae7",
   "metadata": {},
   "outputs": [
    {
     "data": {
      "text/plain": [
       "[]"
      ]
     },
     "execution_count": 35,
     "metadata": {},
     "output_type": "execute_result"
    }
   ],
   "source": [
    "data1.copy()"
   ]
  },
  {
   "cell_type": "code",
   "execution_count": 37,
   "id": "4f23f53d-49b0-4098-b518-c122acb9b70b",
   "metadata": {},
   "outputs": [],
   "source": [
    "data1 = [1,2,3]\n",
    "data2 =data1.copy()"
   ]
  },
  {
   "cell_type": "code",
   "execution_count": 38,
   "id": "8fa62ec2-3645-4f0d-8e69-8d4560de6581",
   "metadata": {},
   "outputs": [
    {
     "data": {
      "text/plain": [
       "[1, 2, 3]"
      ]
     },
     "execution_count": 38,
     "metadata": {},
     "output_type": "execute_result"
    }
   ],
   "source": [
    "data2"
   ]
  },
  {
   "cell_type": "code",
   "execution_count": 39,
   "id": "9a1d4dec-1933-4f25-9f8c-d1980a08c375",
   "metadata": {},
   "outputs": [],
   "source": [
    "data1[0] = 100"
   ]
  },
  {
   "cell_type": "code",
   "execution_count": 40,
   "id": "99f0ee1c-90dd-4ecc-a25c-a2802fc0f139",
   "metadata": {},
   "outputs": [
    {
     "data": {
      "text/plain": [
       "[100, 2, 3]"
      ]
     },
     "execution_count": 40,
     "metadata": {},
     "output_type": "execute_result"
    }
   ],
   "source": [
    "data1"
   ]
  },
  {
   "cell_type": "code",
   "execution_count": 41,
   "id": "54191833-5f9d-4c30-937e-97775d9602b8",
   "metadata": {},
   "outputs": [
    {
     "data": {
      "text/plain": [
       "[1, 2, 3]"
      ]
     },
     "execution_count": 41,
     "metadata": {},
     "output_type": "execute_result"
    }
   ],
   "source": [
    "data2"
   ]
  },
  {
   "cell_type": "code",
   "execution_count": 42,
   "id": "a7275440-56e5-4a88-a8e3-be07785ba053",
   "metadata": {},
   "outputs": [],
   "source": [
    "data3 = data1"
   ]
  },
  {
   "cell_type": "code",
   "execution_count": 43,
   "id": "f4a46d89-940c-463c-956a-cb94bb10e971",
   "metadata": {},
   "outputs": [
    {
     "data": {
      "text/plain": [
       "[100, 2, 3]"
      ]
     },
     "execution_count": 43,
     "metadata": {},
     "output_type": "execute_result"
    }
   ],
   "source": [
    "data3"
   ]
  },
  {
   "cell_type": "code",
   "execution_count": 44,
   "id": "71853f86-4fa4-4b38-94fa-0df41d0c2f5b",
   "metadata": {},
   "outputs": [
    {
     "data": {
      "text/plain": [
       "[100, 2, 3]"
      ]
     },
     "execution_count": 44,
     "metadata": {},
     "output_type": "execute_result"
    }
   ],
   "source": [
    "data1"
   ]
  },
  {
   "cell_type": "code",
   "execution_count": 45,
   "id": "eaae960a-3ebf-4517-ac75-ff0a3e5da6e0",
   "metadata": {},
   "outputs": [],
   "source": [
    "data1[0]=1"
   ]
  },
  {
   "cell_type": "code",
   "execution_count": 46,
   "id": "8da14a52-a94d-4fa6-a624-ea360b60dabf",
   "metadata": {},
   "outputs": [
    {
     "data": {
      "text/plain": [
       "[1, 2, 3]"
      ]
     },
     "execution_count": 46,
     "metadata": {},
     "output_type": "execute_result"
    }
   ],
   "source": [
    "data1"
   ]
  },
  {
   "cell_type": "code",
   "execution_count": 47,
   "id": "ad5104ad-e7bd-434e-9526-e9acf1c3cbfd",
   "metadata": {},
   "outputs": [
    {
     "data": {
      "text/plain": [
       "[1, 2, 3]"
      ]
     },
     "execution_count": 47,
     "metadata": {},
     "output_type": "execute_result"
    }
   ],
   "source": [
    "data3"
   ]
  },
  {
   "cell_type": "code",
   "execution_count": 55,
   "id": "03904f2d-cbcd-49c2-80ed-c1d67d2b4eb4",
   "metadata": {},
   "outputs": [],
   "source": [
    "data1 = [1,2,3]\n",
    "data2 = [4,5,6]\n",
    "data1.append(data2)"
   ]
  },
  {
   "cell_type": "code",
   "execution_count": 56,
   "id": "1005f6f4-2411-4600-8ece-b8e972b50043",
   "metadata": {},
   "outputs": [
    {
     "data": {
      "text/plain": [
       "[1, 2, 3, [4, 5, 6]]"
      ]
     },
     "execution_count": 56,
     "metadata": {},
     "output_type": "execute_result"
    }
   ],
   "source": [
    "data1"
   ]
  },
  {
   "cell_type": "code",
   "execution_count": 57,
   "id": "4a3d0c5f-f0c0-4eb5-9e39-40a8ba3828f8",
   "metadata": {},
   "outputs": [
    {
     "data": {
      "text/plain": [
       "[1, 2, 3, 4, 5, 6]"
      ]
     },
     "execution_count": 57,
     "metadata": {},
     "output_type": "execute_result"
    }
   ],
   "source": [
    "data1 = [1,2,3]\n",
    "data2 = [4,5,6]\n",
    "data1.extend(data2)\n",
    "data1"
   ]
  },
  {
   "cell_type": "code",
   "execution_count": 58,
   "id": "f42c918e-c088-4ae7-98ba-1fd4b4287dc1",
   "metadata": {},
   "outputs": [
    {
     "data": {
      "text/plain": [
       "[1, 2, 3, 4, 5, 6]"
      ]
     },
     "execution_count": 58,
     "metadata": {},
     "output_type": "execute_result"
    }
   ],
   "source": [
    "data1 = [1,2,3]\n",
    "data2 = [4,5,6]\n",
    "data1+data2"
   ]
  },
  {
   "cell_type": "code",
   "execution_count": 59,
   "id": "e68938b9-dc0a-4b0b-8974-0acaf759303c",
   "metadata": {},
   "outputs": [],
   "source": [
    "data1.insert(0,6)"
   ]
  },
  {
   "cell_type": "code",
   "execution_count": 63,
   "id": "ebe125e6-dc8c-49ae-ada0-c3d7e476ca99",
   "metadata": {},
   "outputs": [],
   "source": [
    "data1=[2,3,6,2,8,2]"
   ]
  },
  {
   "cell_type": "code",
   "execution_count": 64,
   "id": "589e518d-7f98-45b5-b369-30e7d4c51977",
   "metadata": {},
   "outputs": [],
   "source": [
    "data1.remove(2)"
   ]
  },
  {
   "cell_type": "code",
   "execution_count": 70,
   "id": "701b3e01-d69b-4a51-b3ea-6629527651b8",
   "metadata": {},
   "outputs": [],
   "source": [
    "data1 = [3, 6, 2, 8, 2]"
   ]
  },
  {
   "cell_type": "code",
   "execution_count": 71,
   "id": "c210bdd5-19b8-4526-9fba-efb6f3e6b842",
   "metadata": {},
   "outputs": [
    {
     "data": {
      "text/plain": [
       "2"
      ]
     },
     "execution_count": 71,
     "metadata": {},
     "output_type": "execute_result"
    }
   ],
   "source": [
    "a = data1.pop()\n",
    "a"
   ]
  },
  {
   "cell_type": "code",
   "execution_count": 72,
   "id": "7ffa828d-d80c-465a-af80-687b04e922cf",
   "metadata": {},
   "outputs": [
    {
     "data": {
      "text/plain": [
       "[3, 6, 2, 8]"
      ]
     },
     "execution_count": 72,
     "metadata": {},
     "output_type": "execute_result"
    }
   ],
   "source": [
    "data1"
   ]
  },
  {
   "cell_type": "code",
   "execution_count": 73,
   "id": "fbc0c6df-ad13-453a-bd7f-9ef2fca72987",
   "metadata": {},
   "outputs": [],
   "source": [
    "data1.reverse()"
   ]
  },
  {
   "cell_type": "code",
   "execution_count": 74,
   "id": "8a948dcc-1126-41c2-bc0d-7b01452fb4a0",
   "metadata": {},
   "outputs": [
    {
     "data": {
      "text/plain": [
       "[8, 2, 6, 3]"
      ]
     },
     "execution_count": 74,
     "metadata": {},
     "output_type": "execute_result"
    }
   ],
   "source": [
    "data1"
   ]
  },
  {
   "cell_type": "code",
   "execution_count": 75,
   "id": "aef449d6-bac2-4ee8-9ee5-aa88b0e33a53",
   "metadata": {},
   "outputs": [],
   "source": [
    "t = [1,2,3]"
   ]
  },
  {
   "cell_type": "code",
   "execution_count": 76,
   "id": "e470deb2-a15e-4639-aa8b-709a09ad37cc",
   "metadata": {},
   "outputs": [],
   "source": [
    "a,b,c = t"
   ]
  },
  {
   "cell_type": "code",
   "execution_count": 79,
   "id": "63d55357-8058-4843-84a6-519f7a60789a",
   "metadata": {},
   "outputs": [
    {
     "data": {
      "text/plain": [
       "2"
      ]
     },
     "execution_count": 79,
     "metadata": {},
     "output_type": "execute_result"
    }
   ],
   "source": [
    "b"
   ]
  },
  {
   "cell_type": "code",
   "execution_count": 80,
   "id": "445e153e-664a-435f-90f1-1818af5653a1",
   "metadata": {},
   "outputs": [
    {
     "data": {
      "text/plain": [
       "(1, 2, 3)"
      ]
     },
     "execution_count": 80,
     "metadata": {},
     "output_type": "execute_result"
    }
   ],
   "source": [
    "a,b,c"
   ]
  },
  {
   "cell_type": "code",
   "execution_count": 81,
   "id": "c640226c-7d54-4826-8798-61b5170ec13f",
   "metadata": {},
   "outputs": [],
   "source": [
    "data = [[],[],[]]"
   ]
  }
 ],
 "metadata": {
  "kernelspec": {
   "display_name": "Python 3 (ipykernel)",
   "language": "python",
   "name": "python3"
  },
  "language_info": {
   "codemirror_mode": {
    "name": "ipython",
    "version": 3
   },
   "file_extension": ".py",
   "mimetype": "text/x-python",
   "name": "python",
   "nbconvert_exporter": "python",
   "pygments_lexer": "ipython3",
   "version": "3.9.13"
  }
 },
 "nbformat": 4,
 "nbformat_minor": 5
}
